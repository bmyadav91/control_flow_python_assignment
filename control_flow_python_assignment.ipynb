{
 "cells": [
  {
   "cell_type": "code",
   "execution_count": null,
   "id": "758a7fa5-a05b-4154-9fbc-d23841d25897",
   "metadata": {},
   "outputs": [],
   "source": [
    "# Basic If-Else Statements:"
   ]
  },
  {
   "cell_type": "code",
   "execution_count": 7,
   "id": "14cb64aa-3bd3-405f-b526-e1e60b1ae8c2",
   "metadata": {},
   "outputs": [
    {
     "name": "stdin",
     "output_type": "stream",
     "text": [
      "Enter Any Number:  22.2\n"
     ]
    },
    {
     "name": "stdout",
     "output_type": "stream",
     "text": [
      "22.2 is Positive\n"
     ]
    }
   ],
   "source": [
    "# 1. Write a Python program to check if a given number is positive or negative.\n",
    "number = float(input(\"Enter Any Number: \"))\n",
    "# checking through if and else condition \n",
    "if number < 0:\n",
    "    print(number,\"is Negative\")\n",
    "elif number > 0:\n",
    "    print(number,\"is Positive\")\n",
    "else:\n",
    "    print(number,\"The entered number is zero.\")"
   ]
  },
  {
   "cell_type": "code",
   "execution_count": 10,
   "id": "48be5bde-c282-4900-b8de-f8485d43575d",
   "metadata": {},
   "outputs": [
    {
     "name": "stdin",
     "output_type": "stream",
     "text": [
      "Enter Your Age to Check Vote eligibility:  18.3\n"
     ]
    },
    {
     "name": "stdout",
     "output_type": "stream",
     "text": [
      "You're Eligible to Vote\n"
     ]
    }
   ],
   "source": [
    "# 2. Create a program that determines if a person is eligible to vote based on age.\n",
    "person_age = float(input(\"Enter Your Age to Check Vote eligibility: \"))\n",
    "# checking by if else condition\n",
    "if person_age >= 18:\n",
    "    print(\"You're Eligible to Vote\")\n",
    "else:\n",
    "    print(\"You're not eligible to vote\")"
   ]
  },
  {
   "cell_type": "code",
   "execution_count": 14,
   "id": "74dafbd9-127f-4928-8f43-845dfa632fa3",
   "metadata": {},
   "outputs": [
    {
     "name": "stdin",
     "output_type": "stream",
     "text": [
      "Enter Number One:  454\n",
      "Enter Number Second:  55\n"
     ]
    },
    {
     "name": "stdout",
     "output_type": "stream",
     "text": [
      "454.0 is greater than 55.0\n"
     ]
    }
   ],
   "source": [
    "# 3. Develop a program to find the maximum of two numbers using if-else statements. \n",
    "number_one = float(input(\"Enter Number One: \"))\n",
    "number_two = float(input(\"Enter Number Second: \"))\n",
    "# check which is maximum number \n",
    "if number_one > number_two:\n",
    "    print(number_one, \"is greater than\", number_two)\n",
    "elif number_two > number_one:\n",
    "    print(number_two,\"is greater then\", number_one)\n",
    "else:\n",
    "    print(number_one, \"and\", number_two, \"both are equal\")"
   ]
  },
  {
   "cell_type": "code",
   "execution_count": 22,
   "id": "69f890c9-9ce5-4cf5-a5e9-46221e81236f",
   "metadata": {},
   "outputs": [
    {
     "name": "stdin",
     "output_type": "stream",
     "text": [
      "Enter Current Year YYYY:  2024\n"
     ]
    },
    {
     "name": "stdout",
     "output_type": "stream",
     "text": [
      "2024 is leap year\n"
     ]
    }
   ],
   "source": [
    "# 4. Write a Python script to classify a given year as a leap year or not.\n",
    "year = int(input(\"Enter Current Year YYYY: \"))\n",
    "# check if is it a leap or not \n",
    "if (year % 4 == 0 and year % 100 != 0) or (year % 400 == 0):\n",
    "    print(year,\"is leap year\")\n",
    "else:\n",
    "    print(year,\"is not leap year\")"
   ]
  },
  {
   "cell_type": "code",
   "execution_count": 31,
   "id": "4578984b-297c-4078-9ed5-b6ff45bfe0ee",
   "metadata": {},
   "outputs": [
    {
     "name": "stdin",
     "output_type": "stream",
     "text": [
      "Enter Character:  C\n"
     ]
    },
    {
     "name": "stdout",
     "output_type": "stream",
     "text": [
      "c is consonant\n"
     ]
    }
   ],
   "source": [
    "# 5. Create a program that checks whether a character is a vowel or a consonant.\n",
    "character = input(\"Enter Character: \")\n",
    "# convert character to lowercase \n",
    "character = character.lower()\n",
    "# assign vowel and consonant\n",
    "vowel = \"aeiou\"\n",
    "consonant = \"bcdfghjklmnpqrstvwxyz\"\n",
    "# now checking \n",
    "if character in vowel:\n",
    "    print(character,\"is vowel\")\n",
    "elif character in consonant:\n",
    "    print(character,\"is consonant\")\n",
    "else:\n",
    "    print(\"Please Check Your Character! maybe it's invalid\")"
   ]
  },
  {
   "cell_type": "code",
   "execution_count": 38,
   "id": "a32cefa3-a1d9-4b33-a456-ee61a8e26ed0",
   "metadata": {},
   "outputs": [
    {
     "name": "stdin",
     "output_type": "stream",
     "text": [
      "Enter any Digit:  100\n"
     ]
    },
    {
     "name": "stdout",
     "output_type": "stream",
     "text": [
      "100 is even number\n"
     ]
    }
   ],
   "source": [
    "# 6. Implement a program to determine whether a given number is even or odd. \n",
    "digit = int(input(\"Enter any Digit: \"))\n",
    "# check it is odd or even\n",
    "if digit % 2 == 0:\n",
    "    print(digit,\"is even number\")\n",
    "else:\n",
    "    print(digit,\"is odd number\")"
   ]
  },
  {
   "cell_type": "code",
   "execution_count": 42,
   "id": "66acef97-49ab-4dd0-a1aa-ac7c88a59d00",
   "metadata": {},
   "outputs": [
    {
     "name": "stdin",
     "output_type": "stream",
     "text": [
      "Enter Number:  -6\n"
     ]
    },
    {
     "name": "stdout",
     "output_type": "stream",
     "text": [
      "The absolute value of -6.0 is 6.0.\n"
     ]
    }
   ],
   "source": [
    "# 7. Write a Python function to calculate the absolute value of a number without using the `abs()` function.\n",
    "def cstm_abs(your_value):\n",
    "    if your_value < 0:\n",
    "        return -your_value\n",
    "    else:\n",
    "        return your_value\n",
    "# enter Number \n",
    "value = float(input(\"Enter Number: \"))\n",
    "# call function \n",
    "custome_abs = cstm_abs(value)\n",
    "# print result \n",
    "print(f\"The absolute value of {value} is {custome_abs}.\")"
   ]
  },
  {
   "cell_type": "code",
   "execution_count": 46,
   "id": "5d82217f-754b-4954-8366-480f47408be6",
   "metadata": {},
   "outputs": [
    {
     "name": "stdin",
     "output_type": "stream",
     "text": [
      "Enter First Number:  11\n",
      "Enter Second Number:  12\n",
      "Enter Third Number:  13\n"
     ]
    },
    {
     "name": "stdout",
     "output_type": "stream",
     "text": [
      "13.0 is largest number\n"
     ]
    }
   ],
   "source": [
    "# 8. Develop a program that determines the largest of three given numbers using if-else statements.\n",
    "number_1 = float(input(\"Enter First Number: \"))\n",
    "number_2 = float(input(\"Enter Second Number: \"))\n",
    "number_3 = float(input(\"Enter Third Number: \"))\n",
    "# check which is largest using if-else\n",
    "if number_1 > number_2 and number_1 > number_3:\n",
    "    print(number_1,\"is largest number\")\n",
    "elif number_2 > number_1 and number_2 > number_3:\n",
    "    print(number_2, \"is largest number\")\n",
    "elif number_3 > number_2 and number_3 > number_1:\n",
    "    print(number_3, \"is largest number\")\n",
    "else:\n",
    "    print(\"Numbers are equal\")"
   ]
  },
  {
   "cell_type": "code",
   "execution_count": 52,
   "id": "49a599bc-2b68-430d-a0cb-b0873f2f9307",
   "metadata": {},
   "outputs": [
    {
     "name": "stdin",
     "output_type": "stream",
     "text": [
      "Enter Number:  121\n"
     ]
    },
    {
     "name": "stdout",
     "output_type": "stream",
     "text": [
      "121 is palindrome\n"
     ]
    }
   ],
   "source": [
    "# 9. Create a program that checks if a given string is a palindrome.\n",
    "given_number = int(input(\"Enter Number: \"))\n",
    "# checking if number is palindrome\n",
    "if str(given_number) == str(given_number)[::-1]:\n",
    "    print(given_number,\"is palindrome\")\n",
    "else:\n",
    "    print(given_number,\"is not palindrome\")"
   ]
  },
  {
   "cell_type": "code",
   "execution_count": 55,
   "id": "89c18859-a1a3-4c81-b936-fc5698b7b070",
   "metadata": {},
   "outputs": [
    {
     "name": "stdin",
     "output_type": "stream",
     "text": [
      "Enter Your Score:  77\n"
     ]
    },
    {
     "name": "stdout",
     "output_type": "stream",
     "text": [
      "Wow! You have 'C' Grade\n"
     ]
    }
   ],
   "source": [
    "# 10. Write a Python program to calculate the grade based on a student's score.\n",
    "score = float(input(\"Enter Your Score: \"))\n",
    "# checking grade \n",
    "if score >= 90 and score <= 100:\n",
    "    print(\"Excellent! You have 'A' Grade\")\n",
    "elif score >= 80 and score <=89:\n",
    "    print(\"Very Good! You have 'B' Grade\")\n",
    "elif score >= 70 and score <= 79:\n",
    "    print(\"Wow! You have 'C' Grade\")\n",
    "elif score >= 60 and score <= 69:\n",
    "    print(\"Good! You have 'D' Grade\")\n",
    "elif score >= 0 and score <= 59:\n",
    "    print(\"You have 'F' Grade\")\n",
    "else:\n",
    "    print(\"You have Entered Invalid Marks Please Enter Within Range 0 ~ 100\")"
   ]
  },
  {
   "cell_type": "code",
   "execution_count": null,
   "id": "139e9f79-ed36-4a99-b848-7e546ead8ce1",
   "metadata": {},
   "outputs": [],
   "source": [
    "# Nested If-Else Statements:"
   ]
  },
  {
   "cell_type": "code",
   "execution_count": 57,
   "id": "7252950d-5f30-45fe-8bb1-2c5e40f17514",
   "metadata": {},
   "outputs": [
    {
     "name": "stdin",
     "output_type": "stream",
     "text": [
      "Enter Number 1:  33\n",
      "Enter Number 2:  11\n",
      "Enter Number 3:  6\n"
     ]
    },
    {
     "name": "stdout",
     "output_type": "stream",
     "text": [
      "33.0 is largest number\n"
     ]
    }
   ],
   "source": [
    "# 11. Write a program to find the largest among three numbers using nested if-else statements.\n",
    "num1 = float(input(\"Enter Number 1: \"))\n",
    "num2 = float(input(\"Enter Number 2: \"))\n",
    "num3 = float(input(\"Enter Number 3: \"))\n",
    "# checking largest number using if-else nested \n",
    "if num1 > num2:\n",
    "    if num1 > num3:\n",
    "        print(num1,\"is largest number\")\n",
    "    else:\n",
    "        print(num3,\"is largest number\")\n",
    "else:\n",
    "    if num2 > num3:\n",
    "        print(num2,\"is largest number\")\n",
    "    else:\n",
    "        print(num3, \"is largest number\")"
   ]
  },
  {
   "cell_type": "code",
   "execution_count": 78,
   "id": "1701ecdb-e410-49b1-b707-eb0c630a9a5a",
   "metadata": {},
   "outputs": [
    {
     "name": "stdin",
     "output_type": "stream",
     "text": [
      "Enter Side One:  12\n",
      "Enter Side Two:  12\n",
      "Enter Side Three:  15\n"
     ]
    },
    {
     "name": "stdout",
     "output_type": "stream",
     "text": [
      "Triangle is Isosceles\n"
     ]
    }
   ],
   "source": [
    "# 12. Implement a program to determine if a triangle is equilateral, isosceles, or scalene.\n",
    "side_a = float(input(\"Enter Side One: \"))\n",
    "side_b = float(input(\"Enter Side Two: \"))\n",
    "side_c = float(input(\"Enter Side Three: \"))\n",
    "# check if a triangle is equilateral, isosceles, or scalene\n",
    "if side_a == side_b or side_b == side_c or side_c == side_a:\n",
    "    if side_a == side_b and side_a == side_c:\n",
    "        print(\"Triangle is Equilateral\")\n",
    "    else:\n",
    "        print(\"Triangle is Isosceles\")\n",
    "else:\n",
    "    print(\"Triangle is Scalene\")"
   ]
  },
  {
   "cell_type": "code",
   "execution_count": 82,
   "id": "dc38e0d6-ae47-40d8-a927-da7b62c97383",
   "metadata": {},
   "outputs": [
    {
     "name": "stdin",
     "output_type": "stream",
     "text": [
      "Enter Year 'YYYY':  2000\n"
     ]
    },
    {
     "name": "stdout",
     "output_type": "stream",
     "text": [
      "2000 is leap year and century year\n"
     ]
    }
   ],
   "source": [
    "# 13. Develop a program that checks if a year is a leap year and also if it is a century year.\n",
    "# making function \n",
    "def check_leap_and_century(year):\n",
    "    if year % 4 == 0:\n",
    "        if year % 100 == 0:\n",
    "            if year % 400 == 0:\n",
    "                print(year,\"is leap year and century year\")\n",
    "            else:\n",
    "                print(year,\"is leap but not century year\")\n",
    "        else:\n",
    "            print(year,\"is leap year but not century year\")\n",
    "\n",
    "    else:\n",
    "        print(year,\"is not leap. even, not century year\")\n",
    "# enter year\n",
    "year = int(input(\"Enter Year 'YYYY': \"))\n",
    "# run function\n",
    "check_leap_and_century(year)"
   ]
  },
  {
   "cell_type": "code",
   "execution_count": 85,
   "id": "66d429c5-bb4d-4d69-8dc1-ddb4d82ca4a1",
   "metadata": {},
   "outputs": [
    {
     "name": "stdin",
     "output_type": "stream",
     "text": [
      "Enter Your Number:  -9\n"
     ]
    },
    {
     "name": "stdout",
     "output_type": "stream",
     "text": [
      "-9.0 Your number is negative\n"
     ]
    }
   ],
   "source": [
    "# 14. Write a Python script to determine if a number is positive, negative, or zero.\n",
    "your_number = float(input(\"Enter Your Number: \"))\n",
    "# checking using nested if else \n",
    "if your_number >= 0:\n",
    "    if your_number == 0:\n",
    "        print(your_number, \"is Zero\")\n",
    "    else:\n",
    "        print(your_number,  \"your number is positive\")\n",
    "else:\n",
    "    if your_number < 0:\n",
    "        print(your_number, \"Your number is negative\")\n",
    "    else:\n",
    "        print(\"You have entered Invalid Number\")"
   ]
  },
  {
   "cell_type": "code",
   "execution_count": 92,
   "id": "fba0bd37-5875-4069-ba50-894ab155fb16",
   "metadata": {},
   "outputs": [
    {
     "name": "stdin",
     "output_type": "stream",
     "text": [
      "Enter Person Age:  13\n"
     ]
    },
    {
     "name": "stdout",
     "output_type": "stream",
     "text": [
      "13.0 The Person is teenager\n"
     ]
    }
   ],
   "source": [
    "# 15. Create a program to check if a person is a teenager (between 13 and 19 years old).\n",
    "p_age = float(input(\"Enter Person Age: \"))\n",
    "# checking through nested if else statement \n",
    "if p_age >= 13:\n",
    "    if p_age <= 19:\n",
    "        print(p_age, \"The Person is teenager\")\n",
    "    else:\n",
    "        print(\"The Person is not teenager\")\n",
    "else:\n",
    "    print(\"Please Enter Number age Within 13 to 19\")"
   ]
  },
  {
   "cell_type": "code",
   "execution_count": 104,
   "id": "04674284-430e-4a71-85ae-34509c655bb1",
   "metadata": {},
   "outputs": [
    {
     "name": "stdin",
     "output_type": "stream",
     "text": [
      "Enter Angle Degree:  90\n"
     ]
    },
    {
     "name": "stdout",
     "output_type": "stream",
     "text": [
      "This will be right Angle\n"
     ]
    }
   ],
   "source": [
    "# 16. Develop a program that determines the type of angle based on its measure (acute, obtuse, or right).\n",
    "angle_deg = float(input(\"Enter Angle Degree: \"))\n",
    "# checking through nested if else statement\n",
    "if angle_deg >= 0 and angle_deg <= 90:\n",
    "    if angle_deg == 90:\n",
    "        print(\"This will be right Angle\")\n",
    "    else:\n",
    "        print(\"This Will be acute angle\")\n",
    "elif angle_deg > 90 and angle_deg <= 180:\n",
    "    print(\"This angle will be obtuse angle\")\n",
    "else:\n",
    "    print(\"Please Enter Degree Within 0 to 180 Degree\")"
   ]
  },
  {
   "cell_type": "code",
   "execution_count": null,
   "id": "27ff3630-43b2-4e3d-b35d-16c8cde6a5f8",
   "metadata": {},
   "outputs": [],
   "source": [
    "# 17. Write a Python program to calculate the roots of a quadratic equation."
   ]
  },
  {
   "cell_type": "code",
   "execution_count": 105,
   "id": "c52a64a3-2893-404a-bca1-e7dedee08376",
   "metadata": {},
   "outputs": [
    {
     "name": "stdin",
     "output_type": "stream",
     "text": [
      "Enter the coefficient a:  3\n",
      "Enter the coefficient b:  11\n",
      "Enter the coefficient c:  6\n"
     ]
    },
    {
     "name": "stdout",
     "output_type": "stream",
     "text": [
      "The roots of the quadratic equation are: -0.6666666666666666 and -3.0\n"
     ]
    }
   ],
   "source": [
    "# Input coefficients from the user\n",
    "a = float(input(\"Enter the coefficient a: \"))\n",
    "b = float(input(\"Enter the coefficient b: \"))\n",
    "c = float(input(\"Enter the coefficient c: \"))\n",
    "\n",
    "# Calculate the discriminant\n",
    "discriminant = b**2 - 4*a*c\n",
    "\n",
    "# Check if the discriminant is non-negative and using if else nested\n",
    "if discriminant >= 0:\n",
    "    # Calculate the roots\n",
    "    root1 = (-b + (discriminant ** 0.5)) / (2*a)\n",
    "    root2 = (-b - (discriminant ** 0.5)) / (2*a)\n",
    "\n",
    "    # Check if the roots are equal\n",
    "    if root1 == root2:\n",
    "        print(f\"The quadratic equation has one real root: {root1}\")\n",
    "    else:\n",
    "        print(f\"The roots of the quadratic equation are: {root1} and {root2}\")\n",
    "else:\n",
    "    print(\"The quadratic equation has complex roots.\")\n"
   ]
  },
  {
   "cell_type": "code",
   "execution_count": 111,
   "id": "565ac55c-f2a4-4abf-baca-1525be029bff",
   "metadata": {},
   "outputs": [
    {
     "name": "stdin",
     "output_type": "stream",
     "text": [
      "Enter Week of Day:  7\n"
     ]
    },
    {
     "name": "stdout",
     "output_type": "stream",
     "text": [
      "Today is Sunday\n"
     ]
    }
   ],
   "source": [
    "# 18. Implement a program to determine the day of the week based on a user-provided number (1 for Monday, 2 for Tuesday, etc.).\n",
    "day = int(input(\"Enter Week of Day: \"))\n",
    "# check day name using nested if else\n",
    "if day >0 and day <= 7:\n",
    "    if day == 1:\n",
    "        print(\"Today is Monday\")\n",
    "    elif day == 2:\n",
    "        print(\"Today is Tuesday\")\n",
    "    elif day == 3:\n",
    "        print(\"Today is Wednesday\")\n",
    "    elif day == 4:\n",
    "        print(\"Today is Thursday\")\n",
    "    elif day == 5:\n",
    "        print(\"Today is Friday\")\n",
    "    elif day == 2:\n",
    "        print(\"Today is Saturday\")\n",
    "    else:\n",
    "        print(\"Today is Sunday\")\n",
    "else:\n",
    "    print(\"Please Enter Day Within 1 to 7 Range\")"
   ]
  },
  {
   "cell_type": "code",
   "execution_count": 113,
   "id": "807b560f-7d3b-47a0-92f6-5e7e466e8370",
   "metadata": {},
   "outputs": [
    {
     "name": "stdin",
     "output_type": "stream",
     "text": [
      "Enter a year:  2000\n"
     ]
    },
    {
     "name": "stdout",
     "output_type": "stream",
     "text": [
      "2000 is a leap year and evenly divisible by 400.\n"
     ]
    }
   ],
   "source": [
    "# 19. Create a program that determines if a year is a leap year and also if it is evenly divisible by 400.\n",
    "year = int(input(\"Enter a year: \"))\n",
    "# Check if it is a leap year using nested if else\n",
    "if year % 4 == 0:\n",
    "    if year % 100 == 0:\n",
    "        if year % 400 == 0:\n",
    "            print(f\"{year} is a leap year and evenly divisible by 400.\")\n",
    "        else:\n",
    "            print(f\"{year} is not a leap year.\")\n",
    "    else:\n",
    "        print(f\"{year} is a leap year but not evenly divisible by 400.\")\n",
    "else:\n",
    "    print(f\"{year} is not a leap year.\")"
   ]
  },
  {
   "cell_type": "code",
   "execution_count": 121,
   "id": "ed12ddaf-4c8e-4bdb-a862-cd7d8e4de362",
   "metadata": {},
   "outputs": [
    {
     "name": "stdin",
     "output_type": "stream",
     "text": [
      "Enter Number:  23\n"
     ]
    },
    {
     "name": "stdout",
     "output_type": "stream",
     "text": [
      "23 is prime number\n"
     ]
    }
   ],
   "source": [
    "# 20. Develop a program that checks if a given number is prime or not using nested if-else statements.\n",
    "number = int(input(\"Enter Number: \"))\n",
    "# check prime or not using nested if else statement \n",
    "if number > 1:\n",
    "    for i in range(2,number):\n",
    "        if number % i == 0:\n",
    "            print(number, \"is not prime number\")\n",
    "            break\n",
    "    else:\n",
    "        print(number, \"is prime number\")\n",
    "else:\n",
    "    print(number, \"is not prime number\")"
   ]
  },
  {
   "cell_type": "code",
   "execution_count": 122,
   "id": "cadf1788-2e71-4379-bb87-a959d35915b0",
   "metadata": {},
   "outputs": [],
   "source": [
    "# Elif Statements:"
   ]
  },
  {
   "cell_type": "code",
   "execution_count": 129,
   "id": "8fd5c562-e2d5-4a6e-ae9c-976d04ea5591",
   "metadata": {},
   "outputs": [
    {
     "name": "stdin",
     "output_type": "stream",
     "text": [
      "Enter Your Marks:  92\n"
     ]
    },
    {
     "name": "stdout",
     "output_type": "stream",
     "text": [
      "Excellent! You have 'A' Grade\n"
     ]
    }
   ],
   "source": [
    "# 21. Write a Python program to assign grades based on different ranges of scores using elif statements.\n",
    "marks = float(input(\"Enter Your Marks: \"))\n",
    "# checking grade using elif statement\n",
    "if marks >= 90 and marks <= 100:\n",
    "    print(\"Excellent! You have 'A' Grade\")\n",
    "elif marks >= 80 and marks <=89:\n",
    "    print(\"Very Good! You have 'B' Grade\")\n",
    "elif marks >= 70 and marks <= 79:\n",
    "    print(\"Wow! You have 'C' Grade\")\n",
    "elif marks >= 60 and marks <= 69:\n",
    "    print(\"Good! You have 'D' Grade\")\n",
    "elif marks >= 0 and marks <= 59:\n",
    "    print(\"Failed! You have 'F' Grade\")\n",
    "else:\n",
    "    print(\"Please Enter Within Range 0 ~ 100\")"
   ]
  },
  {
   "cell_type": "code",
   "execution_count": 4,
   "id": "f98241b3-8200-4614-b81b-803600854101",
   "metadata": {},
   "outputs": [
    {
     "name": "stdin",
     "output_type": "stream",
     "text": [
      "Enter the measure of the first angle:  60\n",
      "Enter the measure of the second angle:  70\n",
      "Enter the measure of the third angle:  50\n"
     ]
    },
    {
     "name": "stdout",
     "output_type": "stream",
     "text": [
      "It's an acute-angled triangle.\n"
     ]
    }
   ],
   "source": [
    "# 22. Implement a program to determine the type of a triangle based on its angles.\n",
    "angle1 = float(input(\"Enter the measure of the first angle: \"))\n",
    "angle2 = float(input(\"Enter the measure of the second angle: \"))\n",
    "angle3 = float(input(\"Enter the measure of the third angle: \"))\n",
    "\n",
    "# check through elif condition\n",
    "if angle1 + angle2 + angle3 == 180:\n",
    "    # Determine the type of triangle based on angles\n",
    "    if angle1 < 90 and angle2 < 90 and angle3 < 90:\n",
    "        print(\"It's an acute-angled triangle.\")\n",
    "    elif angle1 == 90 or angle2 == 90 or angle3 == 90:\n",
    "        print(\"It's a right-angled triangle.\")\n",
    "    else:\n",
    "        print(\"It's an obtuse-angled triangle.\")\n",
    "else:\n",
    "    print(\"It does not form a valid triangle.\")"
   ]
  },
  {
   "cell_type": "code",
   "execution_count": 5,
   "id": "15a6db29-4731-4bf3-b7e8-8bc8ec8e3dfe",
   "metadata": {},
   "outputs": [
    {
     "name": "stdin",
     "output_type": "stream",
     "text": [
      "Enter Your Weight in kg:  67\n",
      "Enter Your Height in Meter:  4\n"
     ]
    },
    {
     "name": "stdout",
     "output_type": "stream",
     "text": [
      "Your BMI is 4.19, and you are categorized as Underweight.\n"
     ]
    }
   ],
   "source": [
    "# 23. Develop a program to categorize a given person's BMI into underweight, normal, overweight, or obese using elif statements.\n",
    "weight = float(input(\"Enter Your Weight in kg: \"))\n",
    "height = float(input(\"Enter Your Height in Meter: \"))\n",
    "# implement bmi formula \n",
    "bmi = weight / (height**2)\n",
    "# check weight by elif condition\n",
    "if bmi < 18.5:\n",
    "    category = 'Underweight'\n",
    "elif 18.5 <= bmi < 24.9:\n",
    "    cateory = 'Normal'\n",
    "elif 25 <= bmi < 29.9:\n",
    "    category = 'Overweight'\n",
    "else:\n",
    "    category = 'Obesity'\n",
    "\n",
    "# print the result \n",
    "print(f\"Your BMI is {bmi:.2f}, and you are categorized as {category}.\")"
   ]
  },
  {
   "cell_type": "code",
   "execution_count": 12,
   "id": "be9665a1-7c6b-4c7b-97d0-65541d4c5e95",
   "metadata": {},
   "outputs": [
    {
     "name": "stdin",
     "output_type": "stream",
     "text": [
      "Enter Number:  -8\n"
     ]
    },
    {
     "name": "stdout",
     "output_type": "stream",
     "text": [
      "-8 is negative\n"
     ]
    }
   ],
   "source": [
    "# 24. Create a program that determines whether a given number is positive, negative, or zero using elif statements.\n",
    "number = int(input(\"Enter Number: \"))\n",
    "# checking through elif\n",
    "if number == 0:\n",
    "    print(number,\"is zero\")\n",
    "elif number > 0:\n",
    "    print(number, \"is postive\")  \n",
    "else:\n",
    "    print(number, \"is negative\")"
   ]
  },
  {
   "cell_type": "code",
   "execution_count": 19,
   "id": "cd892513-e8fe-4233-8944-7eea1a9fcd01",
   "metadata": {},
   "outputs": [
    {
     "name": "stdin",
     "output_type": "stream",
     "text": [
      "Enter Character:  B\n"
     ]
    },
    {
     "name": "stdout",
     "output_type": "stream",
     "text": [
      "character is uppercase\n"
     ]
    }
   ],
   "source": [
    "# 25. Write a Python script to determine the type of a character (uppercase, lowercase, or special) using elif statements.\n",
    "character = input(\"Enter Character: \")\n",
    "# check through elif contdition \n",
    "if character.islower():\n",
    "    character = 'character is lowercase'\n",
    "elif character.isupper():\n",
    "    character = 'character is uppercase'\n",
    "elif character.isnumeric():\n",
    "    character = 'character is numeric'\n",
    "else:\n",
    "    character = 'character is contain special character'\n",
    "# print the result \n",
    "print(character)"
   ]
  },
  {
   "cell_type": "code",
   "execution_count": 33,
   "id": "d1dd73db-112c-46c7-932f-162d8a05f6bb",
   "metadata": {},
   "outputs": [
    {
     "name": "stdin",
     "output_type": "stream",
     "text": [
      "Enter Purchased Amount:  950\n"
     ]
    },
    {
     "name": "stdout",
     "output_type": "stream",
     "text": [
      "you have purchased amount of ₹950.0\n",
      "you have discount amount of ₹142.5\n",
      "After Discounted Amount ₹807.5\n"
     ]
    }
   ],
   "source": [
    "# 26. Implement a program to calculate the discounted price based on different purchase amounts using elif statements.\n",
    "purchased_amount = float(input(\"Enter Purchased Amount: \"))\n",
    "# check through elif condition\n",
    "if purchased_amount >= 100 and purchased_amount <=500:\n",
    "    discount_percent = 10 \n",
    "elif purchased_amount > 500 and purchased_amount <=1000:\n",
    "     discount_percent = 15\n",
    "elif purchased_amount > 1000 and purchased_amount <=5000:\n",
    "     discount_percent = 20\n",
    "elif purchased_amount > 5000:\n",
    "     discount_percent = 25\n",
    "else:\n",
    "    price_after_discount = \"Sorry! No Discount Available ~ please purchase over 100 to get a discount\"\n",
    "# calculate discount\n",
    "discount_amount = (discount_percent / 100) * purchased_amount\n",
    "discounted_price = purchased_amount - discount_amount\n",
    "# print result\n",
    "print(f\"you have purchased amount of ₹{purchased_amount}\")\n",
    "print(f\"you have discount amount of ₹{discount_amount}\")\n",
    "print(f\"After Discounted Amount ₹{discounted_price}\")"
   ]
  },
  {
   "cell_type": "code",
   "execution_count": 38,
   "id": "5a96819e-bc90-4922-8c38-f42bb7ded7e5",
   "metadata": {},
   "outputs": [
    {
     "name": "stdin",
     "output_type": "stream",
     "text": [
      "How Much Electric Unit You have Consumed:  280\n"
     ]
    },
    {
     "name": "stdout",
     "output_type": "stream",
     "text": [
      "You consumed 280 units so you have amount of ₹2520\n"
     ]
    }
   ],
   "source": [
    "# 27. Develop a program to calculate the electricity bill based on different consumption slabs using elif statements.\n",
    "unit_consumed = int(input(\"How Much Electric Unit You have Consumed: \"))\n",
    "# check electric bill through elif condition \n",
    "if unit_consumed <= 100:\n",
    "    bill = unit_consumed * 8\n",
    "elif unit_consumed > 100 and unit_consumed <= 300:\n",
    "    bill = unit_consumed * 9\n",
    "elif unit_consumed > 300 and unit_consumed <= 500:\n",
    "    bill = unit_consumed * 10\n",
    "elif unit_consumed > 500 and unit_consumed <= 1000:\n",
    "    bill = unit_consumed * 11\n",
    "else:\n",
    "    bill = unit_consumed * 12\n",
    "# print result \n",
    "print(f\"You consumed {unit_consumed} units so you have amount of ₹{bill}\")"
   ]
  },
  {
   "cell_type": "code",
   "execution_count": 44,
   "id": "0797d8fe-9e94-45b9-a9fc-8650ffcedebd",
   "metadata": {},
   "outputs": [
    {
     "name": "stdin",
     "output_type": "stream",
     "text": [
      "Enter the length of side a:  5\n",
      "Enter the length of side b:  5\n",
      "Enter the length of side c:  10\n",
      "Enter the length of side d:  10\n"
     ]
    },
    {
     "name": "stdout",
     "output_type": "stream",
     "text": [
      "The quadrilateral is a Rectangle.\n"
     ]
    }
   ],
   "source": [
    "# 28. Create a program to determine the type of quadrilateral based on its angles and sides using elif statements.\n",
    "a = float(input(\"Enter the length of side a: \"))\n",
    "b = float(input(\"Enter the length of side b: \"))\n",
    "c = float(input(\"Enter the length of side c: \"))\n",
    "d = float(input(\"Enter the length of side d: \"))\n",
    "# Check for different types of quadrilaterals\n",
    "if a == b == c == d:\n",
    "    quadrilateral_type = \"Square\"\n",
    "elif (a == c and b == d) or (a == b and c == d) or (a == d and b == c):\n",
    "    quadrilateral_type = \"Rectangle\"\n",
    "elif a == b == c != d or a != b and b == c == d or a == c == d != b or a == b != c == d:\n",
    "    quadrilateral_type = \"Rhombus\"\n",
    "elif a == c != b == d or a == b != c == d or a == d != b == c or b == d != a == c:\n",
    "    quadrilateral_type = \"Parallelogram\"\n",
    "else:\n",
    "    quadrilateral_type = \"Another Quadrilateral\"\n",
    "# print the result \n",
    "print(f\"The quadrilateral is a {quadrilateral_type}.\")"
   ]
  },
  {
   "cell_type": "code",
   "execution_count": 50,
   "id": "c4c92b4d-94e6-4156-87a4-c0f59f07f372",
   "metadata": {},
   "outputs": [
    {
     "name": "stdin",
     "output_type": "stream",
     "text": [
      "Enter Month e.g. Janaury, February...:  december\n"
     ]
    },
    {
     "name": "stdout",
     "output_type": "stream",
     "text": [
      "Current Season is 'Winter Season'\n"
     ]
    }
   ],
   "source": [
    "# 29. Write a Python script to determine the season based on a user-provided month using elif statements.\n",
    "month = input(\"Enter Month e.g. Janaury, February...: \").lower()\n",
    "# check season \n",
    "if month in [\"december\", \"january\", \"february\"]:\n",
    "    season = \"Winter Season\"\n",
    "elif month in [\"march\", \"april\", \"may\"]:\n",
    "    season = \"Spring Season\"\n",
    "elif month in [\"june\", \"july\", \"august\"]:\n",
    "    season = \"Summer Season\"\n",
    "elif month in [\"september\", \"october\", \"november\"]:\n",
    "    season = \"Fall\"\n",
    "else:\n",
    "    season = \"You Entered Invalid ~ check Spells\"\n",
    "print(f\"Current Season is '{season}'\")"
   ]
  },
  {
   "cell_type": "code",
   "execution_count": 58,
   "id": "391e7c7b-e909-4a00-b5c1-336d82efb1a8",
   "metadata": {},
   "outputs": [
    {
     "name": "stdin",
     "output_type": "stream",
     "text": [
      "Enter Year YYYY:  2023\n",
      "Enter Month (1-12):  12\n"
     ]
    },
    {
     "name": "stdout",
     "output_type": "stream",
     "text": [
      "'2023' is 'Common Year' and month '12' has '31' Days\n"
     ]
    }
   ],
   "source": [
    "# 30. Implement a program to determine the type of a year (leap or common) and month (30 or 31 days) using elif statements.\n",
    "# enter year and month\n",
    "year = int(input(\"Enter Year YYYY: \"))\n",
    "month = int(input(\"Enter Month (1-12): \"))\n",
    "# define funtion if leap year \n",
    "def is_leap(year):\n",
    "    return (year % 4 == 0 and year % 100 != 0) or (year % 400 == 0)\n",
    "\n",
    "# check days in month using elif\n",
    "if month in [1,3,5,7,8,10,12]:\n",
    "    days = 31\n",
    "elif month in [4,6,9,11]:\n",
    "    days = 30\n",
    "elif month == 2:\n",
    "    days = 29 if is_leap(year) else 28\n",
    "else:\n",
    "    days = \"Invalid Month\"\n",
    "# checking year leap or common \n",
    "if is_leap(year):\n",
    "    year_type = \"Leap Year\"\n",
    "else:\n",
    "    year_type = \"Common Year\"\n",
    "# print result \n",
    "print(f\"'{year}' is '{year_type}' and month '{month}' has '{days}' Days\")"
   ]
  },
  {
   "cell_type": "code",
   "execution_count": null,
   "id": "b2e6e186-80fd-4e38-a7b2-9ae1846a903c",
   "metadata": {},
   "outputs": [],
   "source": [
    "# Basic Level:"
   ]
  },
  {
   "cell_type": "code",
   "execution_count": 63,
   "id": "63a256ba-052d-4586-92ea-8afb4bd0bbad",
   "metadata": {},
   "outputs": [
    {
     "name": "stdin",
     "output_type": "stream",
     "text": [
      "Enter Any Number:  5\n"
     ]
    },
    {
     "name": "stdout",
     "output_type": "stream",
     "text": [
      "5.0 is Postive\n"
     ]
    }
   ],
   "source": [
    "# 1. Write a Python program that checks if a given number is positive, negative, or zero.\n",
    "given_number = float(input(\"Enter Any Number: \"))\n",
    "# check number is positive, negative, or zero\n",
    "if given_number > 0:\n",
    "    number = \"is Postive\"\n",
    "elif given_number == 0:\n",
    "    number = \"is Zero\"\n",
    "elif given_number < 0:\n",
    "    number = \"is Negative\"\n",
    "else:\n",
    "    number = \"is Invalid Number\"\n",
    "# print result \n",
    "print(given_number, number)"
   ]
  },
  {
   "cell_type": "code",
   "execution_count": 68,
   "id": "6ec05dfe-177f-48ff-abf5-1fde56696cde",
   "metadata": {},
   "outputs": [
    {
     "name": "stdin",
     "output_type": "stream",
     "text": [
      "Enter Person Age:  21\n"
     ]
    },
    {
     "name": "stdout",
     "output_type": "stream",
     "text": [
      "Person is eligible for vote\n"
     ]
    }
   ],
   "source": [
    "# 2. Create a program to determine if a person is eligible to vote based on their age.\n",
    "age = float(input(\"Enter Person Age: \"))\n",
    "# check through condition\n",
    "if age < 18:\n",
    "    eligibility = \"Person is not eligible for vote\"\n",
    "else:\n",
    "    eligibility = \"Person is eligible for vote\"\n",
    "# print result \n",
    "print(eligibility)"
   ]
  },
  {
   "cell_type": "code",
   "execution_count": 71,
   "id": "c33f7b8a-591f-44b3-a630-8f3a4c4f3b47",
   "metadata": {},
   "outputs": [
    {
     "name": "stdin",
     "output_type": "stream",
     "text": [
      "Enter First Number:  956\n",
      "Enter Second Number:  709\n"
     ]
    },
    {
     "name": "stdout",
     "output_type": "stream",
     "text": [
      "'956.0' is maximum number\n"
     ]
    }
   ],
   "source": [
    "# 3. Write a program to find the maximum of two given numbers using conditional statements.\n",
    "number_one = float(input(\"Enter First Number: \"))\n",
    "number_two = float(input(\"Enter Second Number: \"))\n",
    "# check through conditional statement \n",
    "if number_one > number_two:\n",
    "    maximum = number_one\n",
    "elif number_one == number_two:\n",
    "    print(f\"'{number_one}' and '{number_two}' are equal\")\n",
    "else:\n",
    "    maximum = number_two\n",
    "# print result \n",
    "print(f\"'{maximum}' is maximum number\")"
   ]
  },
  {
   "cell_type": "code",
   "execution_count": 73,
   "id": "454eb320-d079-4172-915b-0a7c8a166ec6",
   "metadata": {},
   "outputs": [
    {
     "name": "stdin",
     "output_type": "stream",
     "text": [
      "Enter Your Marks:  99\n"
     ]
    },
    {
     "name": "stdout",
     "output_type": "stream",
     "text": [
      "Excellent! You have 'A' Grade\n"
     ]
    }
   ],
   "source": [
    "# 4. Develop a program that calculates the grade of a student based on their exam score.\n",
    "score = float(input(\"Enter Your Marks: \"))\n",
    "# checking grade using elif statement\n",
    "if score >= 90 and score <= 100:\n",
    "    print(\"Excellent! You have 'A' Grade\")\n",
    "elif score >= 80 and score <=89:\n",
    "    print(\"Very Good! You have 'B' Grade\")\n",
    "elif score >= 70 and score <= 79:\n",
    "    print(\"Wow! You have 'C' Grade\")\n",
    "elif score >= 60 and score <= 69:\n",
    "    print(\"Good! You have 'D' Grade\")\n",
    "elif score >= 0 and score <= 59:\n",
    "    print(\"Failed! You have 'F' Grade\")\n",
    "else:\n",
    "    print(\"Please Enter Within Range 0 ~ 100\")"
   ]
  },
  {
   "cell_type": "code",
   "execution_count": 78,
   "id": "c1bb78c2-f213-4d0b-9e0e-7fd43397f9fa",
   "metadata": {},
   "outputs": [
    {
     "name": "stdin",
     "output_type": "stream",
     "text": [
      "Enter Year:  2023\n"
     ]
    },
    {
     "name": "stdout",
     "output_type": "stream",
     "text": [
      "2023 is not leap year\n"
     ]
    }
   ],
   "source": [
    "# 5. Create a program that checks if a year is a leap year or not.\n",
    "def is_leap_year(year):\n",
    "    return (year % 4 == 0 and year % 100 != 0) or (year % 400 == 0)\n",
    "# enter year\n",
    "year = int(input(\"Enter Year: \"))\n",
    "if is_leap_year(year):\n",
    "    print(year, \"is leap year\")\n",
    "else:\n",
    "    print(year, \"is not leap year\")"
   ]
  },
  {
   "cell_type": "code",
   "execution_count": 85,
   "id": "c90f9fc0-3eb4-46a2-a8c7-095d39ad209f",
   "metadata": {},
   "outputs": [
    {
     "name": "stdin",
     "output_type": "stream",
     "text": [
      "Enter Angle Side A:  11\n",
      "Enter Angle Side B:  11\n",
      "Enter Angle Side C:  12\n"
     ]
    },
    {
     "name": "stdout",
     "output_type": "stream",
     "text": [
      "it Will be 'Isosceles Triangle'\n"
     ]
    }
   ],
   "source": [
    "# 6. Write a program to classify a triangle based on its sides' lengths.\n",
    "side_a = float(input(\"Enter Angle Side A: \"))\n",
    "side_b = float(input(\"Enter Angle Side B: \"))\n",
    "side_c = float(input(\"Enter Angle Side C: \"))\n",
    "# check through condtional statement \n",
    "if side_a == side_b == side_c:\n",
    "    triangle_type = \"Equiletral Triangle\"\n",
    "elif side_a == side_b or side_b == side_c or side_c == side_a:\n",
    "    triangle_type = \"Isosceles Triangle\"\n",
    "else:\n",
    "    triangle_type = \"Scalene Triangle\"\n",
    "print(f\"it Will be '{triangle_type}'\")"
   ]
  },
  {
   "cell_type": "code",
   "execution_count": 87,
   "id": "75707eeb-20e5-45be-96ad-b5f7742ce696",
   "metadata": {},
   "outputs": [
    {
     "name": "stdin",
     "output_type": "stream",
     "text": [
      "Enter First Number:  13\n",
      "Enter Second Number:  12\n",
      "Enter Third Number:  14\n"
     ]
    },
    {
     "name": "stdout",
     "output_type": "stream",
     "text": [
      "14.0 is greater\n"
     ]
    }
   ],
   "source": [
    "# 7. Build a program that determines the largest of three given numbers.\n",
    "num1 = float(input(\"Enter First Number: \"))\n",
    "num2 = float(input(\"Enter Second Number: \"))\n",
    "num3 = float(input(\"Enter Third Number: \"))\n",
    "# check through statement \n",
    "if num1 > num2 and num1 > num3:\n",
    "    max_num = num1\n",
    "elif num2 > num1 and num2 > num3:\n",
    "    max_num = num2\n",
    "else:\n",
    "    max_num = num3\n",
    "# print result \n",
    "print(max_num, \"is greater\")"
   ]
  },
  {
   "cell_type": "code",
   "execution_count": 92,
   "id": "fc99c99d-d0a1-4d08-a7ba-2df268a732f2",
   "metadata": {},
   "outputs": [
    {
     "name": "stdin",
     "output_type": "stream",
     "text": [
      "Enter Character:  B\n"
     ]
    },
    {
     "name": "stdout",
     "output_type": "stream",
     "text": [
      "b is consonant\n"
     ]
    }
   ],
   "source": [
    "# 8. Develop a program that checks whether a character is a vowel or a consonant.\n",
    "character = input(\"Enter Character: \").lower()\n",
    "# assing vowel and consonant\n",
    "vowel = \"aeiou\"\n",
    "consonant = \"bcdfghjklmnpqrstvwxyz\"\n",
    "# check through condition \n",
    "if character in vowel:\n",
    "    print(character,\"is vowel\")\n",
    "elif character in consonant:\n",
    "    print(character,\"is consonant\")\n",
    "else:\n",
    "    print(\"You May ENtered Invalid Character Please ENter Only ALphabet\")"
   ]
  },
  {
   "cell_type": "code",
   "execution_count": 101,
   "id": "443e5756-bdf5-4a55-a4e6-e2c260dc3097",
   "metadata": {},
   "outputs": [
    {
     "name": "stdin",
     "output_type": "stream",
     "text": [
      "How Many Item You Want?  2\n",
      "Enter The Price Of Item 1:₹ 50\n",
      "Enter The Price Of Item 2:₹ 50\n",
      "Enter Discount Percent:  10\n"
     ]
    },
    {
     "name": "stdout",
     "output_type": "stream",
     "text": [
      "'2' items in your cart and price without discount ₹'100.0' with '10.0'% Discount. your total cost will be ₹'90.0'\n"
     ]
    }
   ],
   "source": [
    "# 9. Create a program to calculate the total cost of a shopping cart based on discounts.\n",
    "def discountfind(items_price,discount_percent):\n",
    "    total_item_cost = sum(items_price)\n",
    "    discount_amount = (discount_percent / 100) * total_item_cost\n",
    "    after_discounted = total_item_cost - discount_amount\n",
    "    return after_discounted\n",
    "\n",
    "# how many items you want\n",
    "total_items = int(input(\"How Many Item You Want? \"))\n",
    "# assign blank items_price\n",
    "items_price = []\n",
    "for i in range(total_items):\n",
    "    each_item_price = float(input(f\"Enter The Price Of Item {i+1}:₹\"))\n",
    "    items_price.append(each_item_price)\n",
    "# now what percent discount you need\n",
    "discount_percent = float(input(\"Enter Discount Percent: \"))\n",
    "# now run the funtion \n",
    "total_cost = discountfind(items_price,discount_percent)\n",
    "# print result \n",
    "print(f\"'{total_items}' items in your cart and price without discount ₹'{sum(items_price)}' with '{discount_percent}'% Discount. your total cost will be ₹'{total_cost}'\")"
   ]
  },
  {
   "cell_type": "code",
   "execution_count": 103,
   "id": "b1f35d4b-fe72-4611-8663-3689da4bb04e",
   "metadata": {},
   "outputs": [
    {
     "name": "stdin",
     "output_type": "stream",
     "text": [
      "Enter Number:  3\n"
     ]
    },
    {
     "name": "stdout",
     "output_type": "stream",
     "text": [
      "3 is odd number\n"
     ]
    }
   ],
   "source": [
    "# 10. Write a program that checks if a given number is even or odd.\n",
    "number = int(input(\"Enter Number: \"))\n",
    "# check through condtion\n",
    "if number % 2 == 0:\n",
    "    print(number, \"is even number\")\n",
    "else:\n",
    "    print(number, \"is odd number\")"
   ]
  },
  {
   "cell_type": "code",
   "execution_count": null,
   "id": "cba0adae-a157-4d19-acaa-afac801a0e6a",
   "metadata": {},
   "outputs": [],
   "source": [
    "# Intermediate Level:"
   ]
  },
  {
   "cell_type": "code",
   "execution_count": 108,
   "id": "46a79248-928d-48e4-a95e-8332e4808277",
   "metadata": {},
   "outputs": [
    {
     "name": "stdin",
     "output_type": "stream",
     "text": [
      "Enter the coefficient a:  3\n",
      "Enter the coefficient b:  40\n",
      "Enter the coefficient c:  1\n"
     ]
    },
    {
     "name": "stdout",
     "output_type": "stream",
     "text": [
      "The roots of the quadratic equation are: -0.025047051609574805 and -13.308286281723758\n"
     ]
    }
   ],
   "source": [
    "# 11. Write a program that calculates the roots of a quadratic equation.\n",
    "a = float(input(\"Enter the coefficient a: \"))\n",
    "b = float(input(\"Enter the coefficient b: \"))\n",
    "c = float(input(\"Enter the coefficient c: \"))\n",
    "\n",
    "# Calculate the discriminant\n",
    "discriminant = b**2 - 4*a*c\n",
    "\n",
    "# Check if the discriminant is non-negative\n",
    "if discriminant >= 0:\n",
    "    # Calculate the roots using the formula\n",
    "    root1 = (-b + (discriminant ** 0.5)) / (2*a)\n",
    "    root2 = (-b - (discriminant ** 0.5)) / (2*a)\n",
    "\n",
    "    # Check if the roots are equal\n",
    "    if root1 == root2:\n",
    "        print(f\"The quadratic equation has one real root: {root1}\")\n",
    "    else:\n",
    "        print(f\"The roots of the quadratic equation are: {root1} and {root2}\")\n",
    "else:\n",
    "    print(\"The quadratic equation has complex roots.\")"
   ]
  },
  {
   "cell_type": "code",
   "execution_count": 111,
   "id": "e7d2daa8-46ca-40cc-b045-203a841626a0",
   "metadata": {},
   "outputs": [
    {
     "name": "stdin",
     "output_type": "stream",
     "text": [
      "Enter Day Of Week 7\n"
     ]
    },
    {
     "name": "stdout",
     "output_type": "stream",
     "text": [
      "today is sunday\n"
     ]
    }
   ],
   "source": [
    "# 12. Create a program that determines the day of the week based on the day number (1-7).\n",
    "day = int(input(\"Enter Day Of Week\"))\n",
    "# check through different condition\n",
    "if day == 1:\n",
    "    today = \"today is monday\"\n",
    "elif day == 2:\n",
    "    today = \"today is tuesday\"\n",
    "elif day == 3:\n",
    "    today = \"today is wednesday\"\n",
    "elif day == 4:\n",
    "    today = \"today is thursday\"\n",
    "elif day == 5:\n",
    "    today = \"today is friday\"\n",
    "elif day == 6:\n",
    "    today = \"today is saturday\"\n",
    "elif day == 7:\n",
    "    today = \"today is sunday\"\n",
    "else:\n",
    "    today = \"Please Enter Valid Number ~ within (1 to 7)\"\n",
    "# print result \n",
    "print(today)"
   ]
  },
  {
   "cell_type": "code",
   "execution_count": 116,
   "id": "060fce2e-5065-4771-b664-5999f0741070",
   "metadata": {},
   "outputs": [
    {
     "name": "stdin",
     "output_type": "stream",
     "text": [
      "Enter Number: 6\n"
     ]
    },
    {
     "name": "stdout",
     "output_type": "stream",
     "text": [
      "Factorial of '6' is '720'\n"
     ]
    }
   ],
   "source": [
    "# 13. Develop a program that calculates the factorial of a given number using recursion.\n",
    "def fac(n):\n",
    "    if n == 0 or n == 1:\n",
    "        return 1\n",
    "    else:\n",
    "        return n * fac(n-1)\n",
    "# collect number \n",
    "n = int(input(\"Enter Number:\"))\n",
    "if n <= 0:\n",
    "    print(\"Factorial is not defined for negative numbers.\")\n",
    "else:\n",
    "    print(f\"Factorial of '{n}' is '{fac(n)}'\")"
   ]
  },
  {
   "cell_type": "code",
   "execution_count": 117,
   "id": "d9db1710-db73-4f92-9c64-8457db16695d",
   "metadata": {},
   "outputs": [
    {
     "name": "stdin",
     "output_type": "stream",
     "text": [
      "Enter the first number:  45\n",
      "Enter the second number:  55\n",
      "Enter the third number:  66\n"
     ]
    },
    {
     "name": "stdout",
     "output_type": "stream",
     "text": [
      "The largest among 45.0, 55.0, and 66.0 is 66.0.\n"
     ]
    }
   ],
   "source": [
    "# 14. Write a program to find the largest among three numbers without using the `max()` function.\n",
    "# Get user input for three numbers\n",
    "num1 = float(input(\"Enter the first number: \"))\n",
    "num2 = float(input(\"Enter the second number: \"))\n",
    "num3 = float(input(\"Enter the third number: \"))\n",
    "\n",
    "# Check and find the largest among the three numbers\n",
    "if num1 >= num2 and num1 >= num3:\n",
    "    largest = num1\n",
    "elif num2 >= num1 and num2 >= num3:\n",
    "    largest = num2\n",
    "else:\n",
    "    largest = num3\n",
    "\n",
    "# Print the result\n",
    "print(f\"The largest among {num1}, {num2}, and {num3} is {largest}.\")"
   ]
  },
  {
   "cell_type": "code",
   "execution_count": 129,
   "id": "4f4e21b0-dbd7-4190-996b-7092467c6d23",
   "metadata": {},
   "outputs": [
    {
     "name": "stdout",
     "output_type": "stream",
     "text": [
      "--------ATM Transaction Menu--------\n",
      "1. Check Balance\n",
      "2. Deposit Money\n",
      "3. Withdraw Money\n",
      "4. Quit\n"
     ]
    },
    {
     "name": "stdin",
     "output_type": "stream",
     "text": [
      "Enter Number e.g 1 for check balance, 2 for dep...: 2\n",
      "How Much Amount You want to Deposit? 10000.25\n"
     ]
    },
    {
     "name": "stdout",
     "output_type": "stream",
     "text": [
      "you have deposited ₹'10000.25'. now your current balance is ₹'10100.25'\n"
     ]
    }
   ],
   "source": [
    "# 15. Create a program that simulates a basic ATM transaction menu.\n",
    "def atm_menu():\n",
    "    print(\"--------ATM Transaction Menu--------\")\n",
    "    print(\"1. Check Balance\")\n",
    "    print(\"2. Deposit Money\")\n",
    "    print(\"3. Withdraw Money\")\n",
    "    print(\"4. Quit\")\n",
    "# run atm_munu funtion\n",
    "atm_menu()\n",
    "# get user choice \n",
    "clicked = int(input(\"Enter Number e.g 1 for check balance, 2 for dep...:\"))\n",
    "# initilize balance \n",
    "balance = 100\n",
    "# run different function base upon clicked \n",
    "if clicked == 1:\n",
    "    print(\"Current Balance is: ₹\",balance)\n",
    "elif clicked == 2:\n",
    "    dep_money = float(input(\"How Much Amount You want to Deposit?\"))\n",
    "    balance += dep_money\n",
    "    print(f\"you have deposited ₹'{dep_money}'. now your current balance is ₹'{balance}'\")\n",
    "elif clicked ==3:\n",
    "    with_money = float(input(\"How Much Amount You want to Withdraw?\"))\n",
    "    balance -= with_money\n",
    "    print(f\"you have withdrawed ₹'{with_money}'. now your current balance is ₹'{balance}'\")\n",
    "elif clicked == 4:\n",
    "    print(\"Thank You for banking us! Bye Bye!\")\n",
    "else:\n",
    "    print(\"Please Enter Valid Number Within (1 - 4)\")"
   ]
  },
  {
   "cell_type": "code",
   "execution_count": 131,
   "id": "213b15f7-c107-4ade-a64d-d1891fbfb17b",
   "metadata": {},
   "outputs": [
    {
     "name": "stdin",
     "output_type": "stream",
     "text": [
      "Enter any string:  dad\n"
     ]
    },
    {
     "name": "stdout",
     "output_type": "stream",
     "text": [
      "dad is palindrome\n"
     ]
    }
   ],
   "source": [
    "# 16. Build a program that checks if a given string is a palindrome or not.\n",
    "string = input(\"Enter any string: \")\n",
    "# checking if string is palindrom\n",
    "if string == string[::-1]:\n",
    "    print(string, \"is palindrome\")\n",
    "else:\n",
    "    print(string, \"is not palindrome\")"
   ]
  },
  {
   "cell_type": "code",
   "execution_count": 138,
   "id": "81eba55c-1d26-4f8b-a77f-2f68ddee164d",
   "metadata": {},
   "outputs": [
    {
     "name": "stdin",
     "output_type": "stream",
     "text": [
      "Enter List Sepreated By Space 10 20 30\n"
     ]
    },
    {
     "name": "stdout",
     "output_type": "stream",
     "text": [
      "The average of the list (excluding the smallest and largest values) is: 20.0\n"
     ]
    }
   ],
   "source": [
    "# 17. Write a program that calculates the average of a list of numbers, excluding the smallest and largest values.\n",
    "def average_cal(numbers):\n",
    "    if len(numbers) < 3:\n",
    "        return \"There are no enough numbers in list to perform operation\"\n",
    "    else:\n",
    "        # make numbers sort\n",
    "        numbers_sort = sorted(numbers)\n",
    "        # exclude smallest and largest number \n",
    "        numbers_ex = numbers_sort[1:-1]\n",
    "        average = sum(numbers_ex) / len(numbers_ex)\n",
    "        return average\n",
    "# collecting list \n",
    "numbers = [float(x) for x in input(\"Enter List Sepreated By Space\").split()]\n",
    "# run function\n",
    "result = average_cal(numbers)\n",
    "# print result \n",
    "print(f\"The average of the list (excluding the smallest and largest values) is: {result}\")"
   ]
  },
  {
   "cell_type": "code",
   "execution_count": 144,
   "id": "16153030-f3db-4e3e-985a-04a8d3cb005c",
   "metadata": {},
   "outputs": [
    {
     "name": "stdin",
     "output_type": "stream",
     "text": [
      "Enter Temprature in celsius to convert Fahrenheit:  55\n"
     ]
    },
    {
     "name": "stdout",
     "output_type": "stream",
     "text": [
      "55.0 Celsius will be  131.0 Fahrengeit\n"
     ]
    }
   ],
   "source": [
    "# 18. Develop a program that converts a given temperature from Celsius to Fahrenheit.\n",
    "celsius = float(input(\"Enter Temprature in celsius to convert Fahrenheit: \"))\n",
    "# checking through condition \n",
    "if celsius != \" \":\n",
    "    fahrenheit = (celsius * 9/5) + 32\n",
    "    print(celsius, \"Celsius will be \",fahrenheit, \"Fahrengeit\")\n",
    "else:\n",
    "    print(\"Please Enter Numeric Value\")"
   ]
  },
  {
   "cell_type": "code",
   "execution_count": 4,
   "id": "69db9a28-f3f2-49df-82a8-64f24b70422a",
   "metadata": {},
   "outputs": [
    {
     "name": "stdout",
     "output_type": "stream",
     "text": [
      "----Select to Working-----\n",
      "'+' for addition\n",
      "'-' for subtraction\n",
      "'*' for multiplication\n",
      "'/' for division\n"
     ]
    },
    {
     "name": "stdin",
     "output_type": "stream",
     "text": [
      "What do you want to perform +,-,*,/ /\n",
      "Enter First Number:  5\n",
      "Enter Second Number:  4\n"
     ]
    },
    {
     "name": "stdout",
     "output_type": "stream",
     "text": [
      "1.25\n"
     ]
    }
   ],
   "source": [
    "# 19. Create a program that simulates a basic calculator for addition, subtraction, multiplication, and division.\n",
    "# display to select \n",
    "print(\"----Select to Working-----\")\n",
    "print(\"'+' for addition\")\n",
    "print(\"'-' for subtraction\")\n",
    "print(\"'*' for multiplication\")\n",
    "print(\"'/' for division\")\n",
    "\n",
    "# asking to user what do you want \n",
    "choice = input(\"What do you want to perform +,-,*,/\")\n",
    "# with number \n",
    "num1 = float(input(\"Enter First Number: \"))\n",
    "num2 = float(input(\"Enter Second Number: \"))\n",
    "# now calculate throgh the condition \n",
    "if choice == '+':\n",
    "    result = num1 + num2\n",
    "elif choice == '-':\n",
    "    result = num1 - num2\n",
    "elif choice == '*':\n",
    "    result = num1 * num2\n",
    "elif choice == '/':\n",
    "    result = num1 / num2\n",
    "else:\n",
    "    result = \"Please Enter Valid Operator +,-,/,*\"\n",
    "# print result \n",
    "print(result)"
   ]
  },
  {
   "cell_type": "code",
   "execution_count": 5,
   "id": "1731dca1-444a-4db5-a5cf-00c71dee5996",
   "metadata": {},
   "outputs": [
    {
     "name": "stdin",
     "output_type": "stream",
     "text": [
      "Enter coefficient a:  4\n",
      "Enter coefficient b:  14\n",
      "Enter coefficient c:  25\n",
      "Enter coefficient d:  1\n"
     ]
    },
    {
     "name": "stdout",
     "output_type": "stream",
     "text": [
      "The roots of the cubic equation are:\n",
      "Root 1: (25.939020617259487-18.9777461623341j)\n",
      "Root 2: (25.93902061725948-46.948427549833724j)\n",
      "Root 3: (1.7156999745242345-32.96308685608391j)\n"
     ]
    }
   ],
   "source": [
    "# 20. Write a program that determines the roots of a cubic equation using the Cardano formula.\n",
    "import cmath\n",
    "\n",
    "def solve_cubic_equation(a, b, c, d):\n",
    "    # Calculate the discriminant and its cube root\n",
    "    delta = (18 * a * b * c * d) - (4 * b**3 * d) + (b**2 * c**2) - (4 * a * c**3) - (27 * a**2 * d**2)\n",
    "    delta_cubed_root = cmath.exp(cmath.log(delta) / 3)\n",
    "\n",
    "    # Calculate intermediate values\n",
    "    alpha = (9 * a * b - 2 * b**3 - 27 * a**2 * d) / (2 * cmath.sqrt(delta))\n",
    "    beta = (27 * a**2 * c - 9 * a * b * c + 2 * b**3) / (2 * delta_cubed_root)\n",
    "\n",
    "    # Calculate the three roots using Cardano's formula\n",
    "    root_1 = -1 / 3 * b / a + delta_cubed_root / 3 + beta\n",
    "    root_2 = -1 / 3 * b / a - (1 + cmath.sqrt(3) * 1j) * delta_cubed_root / 6 + beta\n",
    "    root_3 = -1 / 3 * b / a - (1 - cmath.sqrt(3) * 1j) * delta_cubed_root / 6 + beta\n",
    "\n",
    "    return root_1, root_2, root_3\n",
    "\n",
    "# Get user input for coefficients\n",
    "a = float(input(\"Enter coefficient a: \"))\n",
    "b = float(input(\"Enter coefficient b: \"))\n",
    "c = float(input(\"Enter coefficient c: \"))\n",
    "d = float(input(\"Enter coefficient d: \"))\n",
    "\n",
    "# Solve the cubic equation\n",
    "roots = solve_cubic_equation(a, b, c, d)\n",
    "\n",
    "# Print the roots\n",
    "print(\"The roots of the cubic equation are:\")\n",
    "print(f\"Root 1: {roots[0]}\")\n",
    "print(f\"Root 2: {roots[1]}\")\n",
    "print(f\"Root 3: {roots[2]}\")\n"
   ]
  },
  {
   "cell_type": "code",
   "execution_count": null,
   "id": "d4dd6d2e-625c-4848-b898-3b597a2145f6",
   "metadata": {},
   "outputs": [],
   "source": [
    "# Advanced Level:"
   ]
  },
  {
   "cell_type": "code",
   "execution_count": 22,
   "id": "cd4c0b84-5eed-4f87-a9f2-e20937e95ed5",
   "metadata": {},
   "outputs": [
    {
     "name": "stdin",
     "output_type": "stream",
     "text": [
      "Enter Your Annual Income:  1000000\n"
     ]
    },
    {
     "name": "stdout",
     "output_type": "stream",
     "text": [
      "Your Income: ₹'1000000' and tax ₹112500.0 with tax ₹'1112500.0'\n"
     ]
    }
   ],
   "source": [
    "# 21. Create a program that calculates the income tax based on the user's income and tax brackets.\n",
    "income = int(input(\"Enter Your Annual Income: \"))\n",
    "# tax\n",
    "tax = 0\n",
    "# Checking through if the condition \n",
    "if income <= 250000:\n",
    "    tax = 0\n",
    "elif income > 250000 and income <= 500000:\n",
    "    tax = (income-250000) * 5 / 100\n",
    "elif income > 500000 and income <= 1000000:\n",
    "    tax = (500000 - 250000) * 5 / 100 #first up to 5 lakh\n",
    "    tax = tax + (income - 500000) * 20/100\n",
    "elif income > 1000000:\n",
    "    tax = (500000 - 250000) * 5 / 100\n",
    "    tax = tax + (1000000 - 500000) * 20/100\n",
    "    tax = tax + (income - 1000000) * 30/100\n",
    "# print result \n",
    "print(f\"Your Income: ₹'{income}' and tax ₹{tax} with tax ₹'{income + tax}'\")"
   ]
  },
  {
   "cell_type": "code",
   "execution_count": 4,
   "id": "a7ccca0a-1a15-4267-a3b1-059544e4905d",
   "metadata": {},
   "outputs": [
    {
     "name": "stdout",
     "output_type": "stream",
     "text": [
      "\n",
      "Do you want to play rock, scissr, paper game?\n",
      "1. Yes\n",
      "2. No | Exit\n",
      "    \n"
     ]
    },
    {
     "name": "stdin",
     "output_type": "stream",
     "text": [
      "Do you want play or not? 1\n"
     ]
    },
    {
     "name": "stdout",
     "output_type": "stream",
     "text": [
      "\n",
      "            Select Your Choice:\n",
      "            1. rock\n",
      "            2. Paper\n",
      "            3. Scissor\n",
      "            \n"
     ]
    },
    {
     "name": "stdin",
     "output_type": "stream",
     "text": [
      "Enter Your Choice:  1\n"
     ]
    },
    {
     "name": "stdout",
     "output_type": "stream",
     "text": [
      "You Selected:  rock\n",
      "Computer Coice:  paper\n",
      "Computer won in this step\n",
      "\n",
      "            Select Your Choice:\n",
      "            1. rock\n",
      "            2. Paper\n",
      "            3. Scissor\n",
      "            \n"
     ]
    },
    {
     "name": "stdin",
     "output_type": "stream",
     "text": [
      "Enter Your Choice:  3\n"
     ]
    },
    {
     "name": "stdout",
     "output_type": "stream",
     "text": [
      "You Selected:  paper\n",
      "Computer Coice:  rock\n",
      "You won in this step\n",
      "\n",
      "            Select Your Choice:\n",
      "            1. rock\n",
      "            2. Paper\n",
      "            3. Scissor\n",
      "            \n"
     ]
    },
    {
     "name": "stdin",
     "output_type": "stream",
     "text": [
      "Enter Your Choice:  3\n"
     ]
    },
    {
     "name": "stdout",
     "output_type": "stream",
     "text": [
      "You Selected:  paper\n",
      "Computer Coice:  paper\n",
      "Game Draw here\n",
      "\n",
      "            Select Your Choice:\n",
      "            1. rock\n",
      "            2. Paper\n",
      "            3. Scissor\n",
      "            \n"
     ]
    },
    {
     "name": "stdin",
     "output_type": "stream",
     "text": [
      "Enter Your Choice:  2\n"
     ]
    },
    {
     "name": "stdout",
     "output_type": "stream",
     "text": [
      "You Selected:  scissor\n",
      "Computer Coice:  scissor\n",
      "Game Draw here\n",
      "\n",
      "            Select Your Choice:\n",
      "            1. rock\n",
      "            2. Paper\n",
      "            3. Scissor\n",
      "            \n"
     ]
    },
    {
     "name": "stdin",
     "output_type": "stream",
     "text": [
      "Enter Your Choice:  1\n"
     ]
    },
    {
     "name": "stdout",
     "output_type": "stream",
     "text": [
      "You Selected:  rock\n",
      "Computer Coice:  scissor\n",
      "You won in this step\n",
      "You won because your score 4' and computer score '3'\n",
      "\n",
      "Do you want to play rock, scissr, paper game?\n",
      "1. Yes\n",
      "2. No | Exit\n",
      "    \n"
     ]
    },
    {
     "name": "stdin",
     "output_type": "stream",
     "text": [
      "Do you want play or not? 2\n"
     ]
    }
   ],
   "source": [
    "## 22. Write a program that simulates a rock-paper-scissors game against the computer.\n",
    "# importing random package to get random value \n",
    "import random\n",
    "# assing game value \n",
    "game = [\"rock\", \"scissor\", \"paper\"]\n",
    "# running while \n",
    "while True:\n",
    "    # display do you want to play game or not \n",
    "    print(\"\"\"\n",
    "Do you want to play rock, scissr, paper game?\n",
    "1. Yes\n",
    "2. No | Exit\n",
    "    \"\"\")\n",
    "    game_start = int(input(\"Do you want play or not?\"))\n",
    "    if game_start == 1:\n",
    "        # initialize user count and computer win count \n",
    "        user_count = 0\n",
    "        comp_count = 0\n",
    "        # running 5 time loop\n",
    "        for i in range(5):\n",
    "            # ask user to which one you want to select \n",
    "            print(\"\"\"\n",
    "            Select Your Choice:\n",
    "            1. rock\n",
    "            2. Paper\n",
    "            3. Scissor\n",
    "            \"\"\")\n",
    "            # collect user input \n",
    "            user_choice = int(input(\"Enter Your Choice: \"))\n",
    "            if user_choice == 1:\n",
    "                user_choice = \"rock\"\n",
    "            elif user_choice == 2:\n",
    "                user_choice = \"scissor\"\n",
    "            elif user_choice ==3:\n",
    "                user_choice = \"paper\"\n",
    "            else:\n",
    "                user_choice = \"You entered Invalid number\"\n",
    "            # get random computer value\n",
    "            computer_choice = random.choice(game)\n",
    "            # check computer value and user choice same \n",
    "            if computer_choice == user_choice:\n",
    "                # what user selected \n",
    "                print(\"You Selected: \",user_choice)\n",
    "                # print computer selected \n",
    "                print(\"Computer Coice: \", computer_choice)\n",
    "                 # assign both draw\n",
    "                print(\"Game Draw here\")\n",
    "                # increament in both score \n",
    "                user_count += 1\n",
    "                comp_count += 1\n",
    "            # checking if user won \n",
    "            elif (user_choice == \"rock\" and computer_choice == \"scissor\") or (user_choice == \"paper\" and computer_choice == \"rock\") or (user_choice == \"scissor\" and computer_choice == \"paper\"):\n",
    "                # what user selected \n",
    "                print(\"You Selected: \",user_choice)\n",
    "                # computer selected \n",
    "                print(\"Computer Coice: \", computer_choice)\n",
    "                # assign you win \n",
    "                print(\"You won in this step\")\n",
    "                # Increase in user count \n",
    "                user_count += 1\n",
    "            else:\n",
    "                # what user selected \n",
    "                print(\"You Selected: \",user_choice)\n",
    "                # print computer selected \n",
    "                print(\"Computer Coice: \", computer_choice)\n",
    "                # assign computer won \n",
    "                print(\"Computer won in this step\")\n",
    "                # Increase in computer count \n",
    "                comp_count += 1\n",
    "        # printing result \n",
    "        if comp_count == user_count:\n",
    "            print(f\"Game is draw because your score {user_count}' and computer score '{comp_count}'\")\n",
    "        elif user_count > comp_count:\n",
    "            print(f\"You won because your score {user_count}' and computer score '{comp_count}'\")\n",
    "        else:\n",
    "            print(f\"Computer won because your score {user_count}' and computer score '{comp_count}'\")\n",
    "    else:\n",
    "        # exit the game \n",
    "        break\n",
    "        "
   ]
  },
  {
   "cell_type": "code",
   "execution_count": 23,
   "id": "a620e981-0542-418d-a99e-f2983028d945",
   "metadata": {},
   "outputs": [
    {
     "name": "stdin",
     "output_type": "stream",
     "text": [
      "Enter Password Length:  8\n",
      "\n",
      "Password Complexity:\n",
      "1. Normal\n",
      "2. Strong\n",
      "3. Very Strong\n",
      " 3\n"
     ]
    },
    {
     "name": "stdout",
     "output_type": "stream",
     "text": [
      "Generated e+cQ.W^%\n"
     ]
    }
   ],
   "source": [
    "# 23. Develop a program that generates a random password based on user preferences (length, complexity).\n",
    "# import random and string to do it \n",
    "import random\n",
    "import string\n",
    "# ask user how many length want to ?\n",
    "length_choice = int(input(\"Enter Password Length: \"))\n",
    "# ask user to password complexity\n",
    "pass_complexity = int(input(\"\"\"\n",
    "Password Complexity:\n",
    "1. Normal\n",
    "2. Strong\n",
    "3. Very Strong\n",
    "\"\"\"))\n",
    "# assign number to pass_complexity\n",
    "if pass_complexity == 1:\n",
    "    pass_complexity = \"normal\"\n",
    "elif pass_complexity == 2:\n",
    "    pass_complexity = \"strong\"\n",
    "elif pass_complexity == 3:\n",
    "    pass_complexity = \"very strong\"\n",
    "# Now generate password through the different condition \n",
    "if pass_complexity == \"normal\":\n",
    "     # lower case \n",
    "     lowerrcasePass = string.ascii_lowercase\n",
    "     # upper case\n",
    "     uppercasePass = string.ascii_uppercase\n",
    "     # combine both \n",
    "     combinePass = lowerrcasePass + uppercasePass\n",
    "     # generate random within combinePass\n",
    "     combinePass = random.sample(combinePass, length_choice)\n",
    "     # join list and convert into the str\n",
    "     combinePass = \"\".join(combinePass)\n",
    "elif pass_complexity == \"strong\":\n",
    "     # lower case \n",
    "     lowerrcasePass = string.ascii_lowercase\n",
    "     # upper case\n",
    "     uppercasePass = string.ascii_uppercase\n",
    "     # digits\n",
    "     digits = string.digits\n",
    "     # combine both \n",
    "     combinePass = lowerrcasePass + uppercasePass + digits\n",
    "     # generate random within combinePass\n",
    "     combinePass = random.sample(combinePass, length_choice)\n",
    "     # join list and convert into the str\n",
    "     combinePass = \"\".join(combinePass)\n",
    "elif pass_complexity == \"very strong\":\n",
    "     # lower case \n",
    "     lowerrcasePass = string.ascii_lowercase\n",
    "     # upper case\n",
    "     uppercasePass = string.ascii_uppercase\n",
    "     # digits\n",
    "     digits = string.digits\n",
    "     # punctuation \n",
    "     punctuation = string.punctuation\n",
    "     # combine both \n",
    "     combinePass = lowerrcasePass + uppercasePass + digits + punctuation\n",
    "     # generate random within combinePass\n",
    "     combinePass = random.sample(combinePass, length_choice)\n",
    "     # join list and convert into the str\n",
    "     combinePass = \"\".join(combinePass)\n",
    "else:\n",
    "    combinePass = \"You Entered Invalid Number\"\n",
    "print(\"Generated\", combinePass)"
   ]
  },
  {
   "cell_type": "code",
   "execution_count": 27,
   "id": "b0134e90-e4cb-4947-b2bc-70148bb323bc",
   "metadata": {},
   "outputs": [
    {
     "name": "stdin",
     "output_type": "stream",
     "text": [
      "\n",
      "Do You Want to Text-Based Adventure Game? (Yes/No)\n",
      " yes\n",
      "\n",
      "    You are going home in your car when you see a woman in dirty clothes running towards you and asking for a ride home.\n",
      "    Will you give her a ride home? (Yes / No)\n",
      "     no\n"
     ]
    },
    {
     "name": "stdout",
     "output_type": "stream",
     "text": [
      "Now, She is trying to kill you. Will, you knock her down? (Yes / No)\n"
     ]
    },
    {
     "name": "stdin",
     "output_type": "stream",
     "text": [
      ">> yes\n"
     ]
    },
    {
     "name": "stdout",
     "output_type": "stream",
     "text": [
      "Congrats! She was a murderer & You helped the police to catch her with your bravery\n"
     ]
    }
   ],
   "source": [
    "# 24. Create a program that implements a simple text-based adventure game with branching scenarios.\n",
    "game_txt = input(\"\"\"\n",
    "Do You Want to Text-Based Adventure Game? (Yes/No)\n",
    "\"\"\").lower()\n",
    "if game_txt == 'yes':\n",
    "    ans1 = input(\"\"\"\n",
    "    You are going home in your car when you see a woman in dirty clothes running towards you and asking for a ride home.\n",
    "    Will you give her a ride home? (Yes / No)\n",
    "    \"\"\").lower()\n",
    "    # If the answer yes \n",
    "    if ans1 == 'yes':\n",
    "        ans2 = input(\"\"\"\n",
    "        After 5 minutes, you are stopped at a checkpoint and the police ask did you see a suspicious woman. Will you say (Yes / No)\n",
    "        \"\"\").lower()\n",
    "        if ans2 == \"yes\":\n",
    "            print(\"You are an honest person. She was a murderer & You won the Game\")\n",
    "        elif ans2 == \"no\":\n",
    "            print(\"You helped a murderer. Now, go to Jail. GAME OVER\")\n",
    "        else:\n",
    "            print(\"Oh! You entered invalid\")\n",
    "    elif ans1 == \"no\":\n",
    "        print(\"Now, She is trying to kill you. Will, you knock her down? (Yes / No)\")\n",
    "        ans3 = input(\">>\").lower()\n",
    "        if ans3 == \"yes\":\n",
    "            print(\"Congrats! She was a murderer & You helped the police to catch her with your bravery\")\n",
    "        elif ans3 == \"no\":\n",
    "            print(\"sorry! You are dead. She was a murderer & She killed you. GAME OVER\")\n",
    "        else:\n",
    "            print(\"You entered invalid. please enter Yes or No\")\n",
    "else:\n",
    "    print(\"You Selected No or Selected Invalid\")"
   ]
  },
  {
   "cell_type": "code",
   "execution_count": 30,
   "id": "ebe80f36-4543-45e5-8a55-e1aa6ade3ac9",
   "metadata": {},
   "outputs": [
    {
     "name": "stdout",
     "output_type": "stream",
     "text": [
      "Linear Equation Solver\n",
      "Equation form: ax + b = 0\n"
     ]
    },
    {
     "name": "stdin",
     "output_type": "stream",
     "text": [
      "Enter the coefficient 'a':  4\n",
      "Enter the constant term 'b':  1\n"
     ]
    },
    {
     "name": "stdout",
     "output_type": "stream",
     "text": [
      "The solution for the equation 4.0x + 1.0 = 0 is x = -0.25\n"
     ]
    }
   ],
   "source": [
    "# 25. Build a program that solves a linear equation for x, considering different cases.\n",
    "def solve_linear_equation(a, b):\n",
    "    if a == 0:\n",
    "        if b == 0:\n",
    "            return \"Infinite solutions (all real numbers are solutions)\"\n",
    "        else:\n",
    "            return \"No solution (contradiction)\"\n",
    "    else:\n",
    "        x = -b / a\n",
    "        return f\"The solution for the equation {a}x + {b} = 0 is x = {x}\"\n",
    "\n",
    "def main():\n",
    "    print(\"Linear Equation Solver\")\n",
    "    print(\"Equation form: ax + b = 0\")\n",
    "\n",
    "    a = float(input(\"Enter the coefficient 'a': \"))\n",
    "    b = float(input(\"Enter the constant term 'b': \"))\n",
    "    # runing funtion\n",
    "    result = solve_linear_equation(a, b)\n",
    "    print(result)\n",
    "\n",
    "if __name__ == \"__main__\":\n",
    "    main()\n"
   ]
  },
  {
   "cell_type": "code",
   "execution_count": 31,
   "id": "351373f3-e898-4708-b002-16af6fa30525",
   "metadata": {},
   "outputs": [
    {
     "name": "stdin",
     "output_type": "stream",
     "text": [
      "\n",
      "Where is Allahabad Locted?\n",
      "A. Uttar Pradesh\n",
      "B. New Delhi\n",
      "C. Bihar\n",
      "D. Non Of These\n",
      " a\n"
     ]
    },
    {
     "name": "stdout",
     "output_type": "stream",
     "text": [
      "Correct 2 Marks Added\n"
     ]
    },
    {
     "name": "stdin",
     "output_type": "stream",
     "text": [
      "\n",
      "What's Capital Of USA?\n",
      "A. Washington D,C\n",
      "B. California\n",
      "C. New York\n",
      "D. Dallas\n",
      " a\n"
     ]
    },
    {
     "name": "stdout",
     "output_type": "stream",
     "text": [
      "Correct 2 Marks Added\n"
     ]
    },
    {
     "name": "stdin",
     "output_type": "stream",
     "text": [
      "\n",
      "Which One is Richest Country in The World According to Nomial GDP?\n",
      "A. China\n",
      "B. USA\n",
      "C. UK\n",
      "D. India\n",
      " b\n"
     ]
    },
    {
     "name": "stdout",
     "output_type": "stream",
     "text": [
      "Correct 2 Marks Added\n",
      "You gained 6 marks\n"
     ]
    }
   ],
   "source": [
    "# 26. Write a program that simulates a basic quiz game with multiple-choice questions and scoring.\n",
    "# intialize score \n",
    "score = 0\n",
    "# running if else program to do it\n",
    "# question 1\n",
    "q1 = input(\"\"\"\n",
    "Where is Allahabad Locted?\n",
    "A. Uttar Pradesh\n",
    "B. New Delhi\n",
    "C. Bihar\n",
    "D. Non Of These\n",
    "\"\"\").lower()\n",
    "if q1 == \"a\":\n",
    "    score += 2\n",
    "    print(\"Correct 2 Marks Added\")\n",
    "else:\n",
    "    print(\"incorrect answer. Correct Answer is 'A'\")\n",
    "# question 2         \n",
    "q2 = input(\"\"\"\n",
    "What's Capital Of USA?\n",
    "A. Washington D,C\n",
    "B. California\n",
    "C. New York\n",
    "D. Dallas\n",
    "\"\"\").lower()\n",
    "if q2 == \"a\":\n",
    "    score += 2\n",
    "    print(\"Correct 2 Marks Added\")\n",
    "else:\n",
    "    print(\"incorrect answer. Correct Answer is 'A'\")\n",
    "# question 3\n",
    "q3 = input(\"\"\"\n",
    "Which One is Richest Country in The World According to Nomial GDP?\n",
    "A. China\n",
    "B. USA\n",
    "C. UK\n",
    "D. India\n",
    "\"\"\").lower()\n",
    "if q3 == \"b\":\n",
    "    score += 2\n",
    "    print(\"Correct 2 Marks Added\")\n",
    "else:\n",
    "    print(\"incorrect answer. Correct Answer is 'B'\")\n",
    "\n",
    "# print score \n",
    "print(\"You gained\",score, \"marks\")"
   ]
  },
  {
   "cell_type": "code",
   "execution_count": 18,
   "id": "79b2200c-71fc-48fa-a83e-de4912266d95",
   "metadata": {},
   "outputs": [
    {
     "name": "stdin",
     "output_type": "stream",
     "text": [
      "Enter The Year:  2023\n"
     ]
    },
    {
     "name": "stdout",
     "output_type": "stream",
     "text": [
      "No! '2023' is not prime\n"
     ]
    }
   ],
   "source": [
    "# 27. Develop a program that determines whether a given year is a prime number or not.\n",
    "year = int(input(\"Enter The Year: \"))\n",
    "\n",
    "if year > 1:\n",
    "    year_prime = True\n",
    "    # iterate through the year \n",
    "    for y in range(2, int(year**0.5) + 1):\n",
    "        if year % y == 0:\n",
    "            year_prime = False\n",
    "            break\n",
    "    else:\n",
    "        year_prime = True\n",
    "else:\n",
    "        year_prime = True\n",
    "# print result\n",
    "if year_prime:\n",
    "    print(f\"Yes! '{year}' is prime\")\n",
    "else:\n",
    "   print(f\"No! '{year}' is not prime\") "
   ]
  },
  {
   "cell_type": "code",
   "execution_count": 23,
   "id": "bf62d410-b8e0-486b-a6f5-60aeae99c211",
   "metadata": {},
   "outputs": [
    {
     "name": "stdin",
     "output_type": "stream",
     "text": [
      "Enter First Number:  88\n",
      "Enter Second Number:  11\n",
      "Enter Third Number:  22\n"
     ]
    },
    {
     "name": "stdout",
     "output_type": "stream",
     "text": [
      "SOrted Number:  (11.0, 22.0, 88.0)\n"
     ]
    }
   ],
   "source": [
    "# 28. Create a program that sorts three numbers in ascending order using conditional statements.\n",
    "num1 = float(input(\"Enter First Number: \"))\n",
    "num2 = float(input(\"Enter Second Number: \"))\n",
    "num3 = float(input(\"Enter Third Number: \"))\n",
    "# Sort through different condition \n",
    "if num1 <= num2 <= num3:\n",
    "    sorted_num = (num1, num2, num3)\n",
    "elif num1 <= num3 <= num2:\n",
    "    sorted_num = (num1, num3, num2)\n",
    "elif num2 <= num1 <= num3:\n",
    "    sorted_num = (num2, num2, num3)\n",
    "elif num2 <= num3 <= num1:\n",
    "    sorted_num = (num2, num3, num1)\n",
    "elif num3 <= num2 <= num1:\n",
    "    sorted_num = (num3, num2, num1)\n",
    "else:\n",
    "    sorted_num = (num3, num1, num2)\n",
    "# print result \n",
    "print(\"SOrted Number: \",sorted_num)"
   ]
  },
  {
   "cell_type": "code",
   "execution_count": 24,
   "id": "5893d2ad-a5ab-4729-b805-8229f772dfb0",
   "metadata": {},
   "outputs": [
    {
     "name": "stdout",
     "output_type": "stream",
     "text": [
      "The roots of the quartic equation are: [(0.3819660112501051+8.401917127456086e-07j), (0.3819660112501051-8.401917127456086e-07j), (2.6180339887498953+6.78862290485944e-07j), (2.6180339887498953-6.78862290485944e-07j)]\n"
     ]
    }
   ],
   "source": [
    "# 29. Build a program that determines the roots of a quartic equation using numerical methods.\n",
    "# import to cmath to do it\n",
    "import cmath\n",
    "\n",
    "def quartic_equation(x, a, b, c, d, e):\n",
    "    return a * x**4 + b * x**3 + c * x**2 + d * x + e\n",
    "\n",
    "def durand_kerner_quartic(a, b, c, d, e, num_iterations=1000, tolerance=1e-6):\n",
    "    roots = [complex(1, 1), complex(1, -1), complex(-1, 1), complex(-1, -1)]\n",
    "\n",
    "    for _ in range(num_iterations):\n",
    "        new_roots = []\n",
    "\n",
    "        for i in range(4):\n",
    "            numerator = quartic_equation(roots[i], a, b, c, d, e)\n",
    "            denominator = 1.0\n",
    "\n",
    "            for j in range(4):\n",
    "                if j != i:\n",
    "                    denominator *= roots[i] - roots[j]\n",
    "\n",
    "            new_root = roots[i] - numerator / denominator\n",
    "            new_roots.append(new_root)\n",
    "\n",
    "        max_change = max(abs(new_roots[i] - roots[i]) for i in range(4))\n",
    "        if max_change < tolerance:\n",
    "            return new_roots\n",
    "\n",
    "        roots = new_roots\n",
    "\n",
    "    # If the method doesn't converge within the specified iterations\n",
    "    raise ValueError(\"Durand-Kerner method did not converge\")\n",
    "\n",
    "# running \n",
    "if __name__ == \"__main__\":\n",
    "    # Coefficients of the quartic equation: ax^4 + bx^3 + cx^2 + dx + e\n",
    "    a, b, c, d, e = 1, -6, 11, -6, 1\n",
    "\n",
    "    try:\n",
    "        roots = durand_kerner_quartic(a, b, c, d, e)\n",
    "        print(\"The roots of the quartic equation are:\", roots)\n",
    "    except ValueError as e:\n",
    "        print(e)\n"
   ]
  },
  {
   "cell_type": "code",
   "execution_count": 27,
   "id": "27d9e47a-b785-450c-9b1a-257391a8d024",
   "metadata": {},
   "outputs": [
    {
     "name": "stdin",
     "output_type": "stream",
     "text": [
      "Enter Your Weight:  64\n",
      "Enter Your Height 1.75\n"
     ]
    },
    {
     "name": "stdout",
     "output_type": "stream",
     "text": [
      "Your BMI '20.90' and you're 'Normal weight'\n",
      "Recommendation: Maintain a balanced diet and regular exercise.\n"
     ]
    }
   ],
   "source": [
    "# 30. Write a program that calculates the BMI (Body Mass Index) and provides health recommendations based on the user's input.\n",
    "# Asking user details \n",
    "weight = float(input(\"Enter Your Weight: \"))\n",
    "height = float(input(\"Enter Your Height\"))\n",
    "# now check bmi \n",
    "bmi = weight / (height ** 2)\n",
    "# checking and advice \n",
    "if bmi < 18.5:\n",
    "    bmiIN = \"Underweight\"\n",
    "    print(f\"Your BMI '{bmi:.2f}' and you're '{bmiIN}'\")\n",
    "    print(\"Recommendation: Consider consulting with a healthcare professional.\")\n",
    "elif 18.5 <= bmi < 25:\n",
    "    bmiIN = \"Normal weight\"\n",
    "    print(f\"Your BMI '{bmi:.2f}' and you're '{bmiIN}'\")\n",
    "    print(\"Recommendation: Maintain a balanced diet and regular exercise.\")\n",
    "elif 25 <= bmi < 30:\n",
    "    bmiIN = \"Overweight\"\n",
    "    print(f\"Your BMI '{bmi:.2f}' and you're '{bmiIN}'\")\n",
    "    print(\"Recommendation: Consider adopting a healthier lifestyle, including diet and exercise.\")\n",
    "else:\n",
    "    bmiIN = \"Obese\"\n",
    "    print(f\"Your BMI '{bmi:.2f}' and you're '{bmiIN}'\")\n",
    "    print(\"Recommendation: Seek guidance from a healthcare professional for weight management.\")"
   ]
  },
  {
   "cell_type": "code",
   "execution_count": null,
   "id": "cf0aed3b-e52f-4375-8f19-9c7ba68cb53d",
   "metadata": {},
   "outputs": [],
   "source": [
    "# Challenge Level:"
   ]
  },
  {
   "cell_type": "code",
   "execution_count": 39,
   "id": "1a66a192-6554-43f7-99ee-179ecb06e686",
   "metadata": {},
   "outputs": [
    {
     "name": "stdin",
     "output_type": "stream",
     "text": [
      "Enter Your Password to check complexity:  ......56464AAjj@0P[\n"
     ]
    },
    {
     "name": "stdout",
     "output_type": "stream",
     "text": [
      "Very Strong: Password is very strong.\n"
     ]
    }
   ],
   "source": [
    "# 31. Create a program that validates a password based on complexity rules (length, characters, etc.).\n",
    "# import string \n",
    "import string\n",
    "def pass_comp(your_pass):\n",
    "    complexity_score = 0 #intialize complexity score\n",
    "    if len(your_pass) < 6:\n",
    "        return \"Your Password is too small password must be at least 6 character long\"\n",
    "    if any(char.islower() for char in your_pass):\n",
    "        complexity_score += 1 \n",
    "    if any(char.isupper() for char in your_pass):\n",
    "        complexity_score += 1 \n",
    "    if any(char.isdigit() for char in your_pass):\n",
    "        complexity_score += 1 \n",
    "    if any(char in string.punctuation for char in your_pass):\n",
    "        complexity_score += 1 \n",
    "\n",
    "    # printing result based on complexity score \n",
    "    if complexity_score == 1:\n",
    "        return \"Weak: Password needs improvement.\"\n",
    "    if complexity_score == 2:\n",
    "        return \"Moderate: Password is moderately strong.\"\n",
    "    if complexity_score == 3:\n",
    "        return \"Strong: Password is strong.\"\n",
    "    if complexity_score == 4:\n",
    "        return \"Very Strong: Password is very strong.\"\n",
    "\n",
    "your_pass = input(\"Enter Your Password to check complexity: \")\n",
    "# running function \n",
    "result = pass_comp(your_pass)\n",
    "# print result \n",
    "print(result)"
   ]
  },
  {
   "cell_type": "code",
   "execution_count": 14,
   "id": "ed969f62-57ee-45a0-8496-c1d98f895207",
   "metadata": {},
   "outputs": [
    {
     "name": "stdin",
     "output_type": "stream",
     "text": [
      "How many columns do you want:  2\n",
      "How many rows do you want:  2\n"
     ]
    },
    {
     "name": "stdout",
     "output_type": "stream",
     "text": [
      "You're filling matrix one...\n"
     ]
    },
    {
     "name": "stdin",
     "output_type": "stream",
     "text": [
      "Enter value at position (1, 1):  1\n",
      "Enter value at position (1, 2):  2\n",
      "Enter value at position (2, 1):  2\n",
      "Enter value at position (2, 2):  2\n"
     ]
    },
    {
     "name": "stdout",
     "output_type": "stream",
     "text": [
      "Matrix One:\n",
      "1 2 \n",
      "2 2 \n",
      "You're filling matrix two...\n"
     ]
    },
    {
     "name": "stdin",
     "output_type": "stream",
     "text": [
      "Enter Value at position (1, 1):  3\n",
      "Enter Value at position (1, 2):  2\n",
      "Enter Value at position (2, 1):  2\n",
      "Enter Value at position (2, 2):  1\n"
     ]
    },
    {
     "name": "stdout",
     "output_type": "stream",
     "text": [
      "3 2 \n",
      "2 1 \n",
      "Matrix Addition:\n",
      "4 4 \n",
      "4 3 \n",
      "Matrix Subtraction:\n",
      "-2 0 \n",
      "0 1 \n"
     ]
    }
   ],
   "source": [
    "## 32. Develop a program that performs matrix addition and subtraction based on user input.\n",
    "cols = int(input(\"How many columns do you want: \"))\n",
    "rows = int(input(\"How many rows do you want: \"))\n",
    "\n",
    "# For matrix one element\n",
    "print(\"You're filling matrix one...\")\n",
    "\n",
    "# Iterate through rows and cols\n",
    "matrix1 = [[int(input(f\"Enter value at position ({i + 1}, {j + 1}): \")) for j in range(cols)] for i in range(rows)]\n",
    "\n",
    "# Print matrix one values\n",
    "print(\"Matrix One:\")\n",
    "for i in range(rows):\n",
    "    for j in range(cols):\n",
    "        print(matrix1[i][j], end=\" \")\n",
    "    print()\n",
    "# create matrix two\n",
    "print(\"You're filling matrix two...\")\n",
    "matrix2 = [[int(input(f\"Enter Value at position ({i + 1}, {j +1 }): \")) for j in range(cols)] for i in range(rows)]\n",
    "# print matrix two \n",
    "for i in range(rows):\n",
    "    for j in range(cols):\n",
    "        print(matrix2[i][j], end=\" \")\n",
    "    print()\n",
    "    \n",
    "# matrix addition\n",
    "matrix_sum = [[matrix1[i][j] + matrix2[i][j] for j in range(cols)] for i in range(rows)]\n",
    "\n",
    "# matrix subtraction\n",
    "matrix_sub = [[matrix1[i][j] - matrix2[i][j] for j in range(cols)] for i in range(rows)]\n",
    "\n",
    "# Print the result of matrix addition\n",
    "print(\"Matrix Addition:\")\n",
    "for i in range(rows):\n",
    "    for j in range(cols):\n",
    "        print(matrix_sum[i][j], end=\" \")\n",
    "    print()\n",
    "\n",
    "# Print the result of matrix subtraction\n",
    "print(\"Matrix Subtraction:\")\n",
    "for i in range(rows):\n",
    "    for j in range(cols):\n",
    "        print(matrix_sub[i][j], end=\" \")\n",
    "    print()\n"
   ]
  },
  {
   "cell_type": "code",
   "execution_count": 18,
   "id": "97b7a799-0ed4-44a6-8982-01f31aca5ead",
   "metadata": {},
   "outputs": [
    {
     "name": "stdin",
     "output_type": "stream",
     "text": [
      "Enter First Number:  60\n",
      "Enter Second Number:  36\n"
     ]
    },
    {
     "name": "stdout",
     "output_type": "stream",
     "text": [
      "GCD of '60' and '36' is '12' using Euclidean Algorithm\n"
     ]
    }
   ],
   "source": [
    "# 33. Write a program that calculates the greatest common divisor (GCD) of two numbers using the Euclidean algorithm.\n",
    "\n",
    "def eculigean_gcd(a,b):\n",
    "    while b:\n",
    "        a, b = b, a % b\n",
    "    return a\n",
    "\n",
    "# collect number \n",
    "num1 = int(input(\"Enter First Number: \"))\n",
    "num2 = int(input(\"Enter Second Number: \"))\n",
    "# run func \n",
    "gcd = eculigean_gcd(num1,num2)\n",
    "# print result \n",
    "print(f\"GCD of '{num1}' and '{num2}' is '{gcd}' using Euclidean Algorithm\")"
   ]
  },
  {
   "cell_type": "code",
   "execution_count": 28,
   "id": "47d89342-dc41-494d-b07a-19502603739c",
   "metadata": {},
   "outputs": [
    {
     "name": "stdout",
     "output_type": "stream",
     "text": [
      "Matrix Multiplication Result (considering even products only):\n",
      "[27, 15, 15, 8]\n",
      "[60, 36, 33, 20]\n",
      "[93, 57, 51, 32]\n"
     ]
    }
   ],
   "source": [
    "# 34. Build a program that performs matrix multiplication using nested loops and conditional statements.\n",
    "# Assign two nested lists to perform matrix multiplication\n",
    "A = [[1,2,3],\n",
    "     [4,5,6],\n",
    "     [7,8,9]]\n",
    "B = [[1,2,1,1],\n",
    "     [4,2,1,2],\n",
    "     [6,3,4,1]]\n",
    "result = [[0,0,0,0],\n",
    "          [0,0,0,0],\n",
    "          [0,0,0,0]]\n",
    "for i in range (len(A)):\n",
    "    for j in range (len(B[0])):\n",
    "        for k in range (len(B)):\n",
    "            result[i][j] += A[i][k] * B[k][j]\n",
    "\n",
    "# Print the result\n",
    "print(\"Matrix Multiplication Result (considering even products only):\")\n",
    "if result:\n",
    "    for i in result:\n",
    "        print(i)\n"
   ]
  },
  {
   "cell_type": "code",
   "execution_count": 29,
   "id": "d89e0a5f-be9b-4aa6-b9e5-0058a85e85ae",
   "metadata": {},
   "outputs": [
    {
     "name": "stdout",
     "output_type": "stream",
     "text": [
      "Welcome to Tic-Tac-Toe!\n",
      "\n",
      "  |   |  \n",
      "---------\n",
      "  |   |  \n",
      "---------\n",
      "  |   |  \n",
      "---------\n"
     ]
    },
    {
     "name": "stdin",
     "output_type": "stream",
     "text": [
      "Enter the row (1, 2, or 3):  2\n",
      "Enter the column (1, 2, or 3):  2\n"
     ]
    },
    {
     "name": "stdout",
     "output_type": "stream",
     "text": [
      "  |   |  \n",
      "---------\n",
      "  | X |  \n",
      "---------\n",
      "  |   |  \n",
      "---------\n",
      "  |   |  \n",
      "---------\n",
      "O | X |  \n",
      "---------\n",
      "  |   |  \n",
      "---------\n"
     ]
    },
    {
     "name": "stdin",
     "output_type": "stream",
     "text": [
      "Enter the row (1, 2, or 3):  1\n",
      "Enter the column (1, 2, or 3):  1\n"
     ]
    },
    {
     "name": "stdout",
     "output_type": "stream",
     "text": [
      "X |   |  \n",
      "---------\n",
      "O | X |  \n",
      "---------\n",
      "  |   |  \n",
      "---------\n",
      "X |   |  \n",
      "---------\n",
      "O | X | O\n",
      "---------\n",
      "  |   |  \n",
      "---------\n"
     ]
    },
    {
     "name": "stdin",
     "output_type": "stream",
     "text": [
      "Enter the row (1, 2, or 3):  1\n",
      "Enter the column (1, 2, or 3):  2\n"
     ]
    },
    {
     "name": "stdout",
     "output_type": "stream",
     "text": [
      "X | X |  \n",
      "---------\n",
      "O | X | O\n",
      "---------\n",
      "  |   |  \n",
      "---------\n",
      "X | X | O\n",
      "---------\n",
      "O | X | O\n",
      "---------\n",
      "  |   |  \n",
      "---------\n"
     ]
    },
    {
     "name": "stdin",
     "output_type": "stream",
     "text": [
      "Enter the row (1, 2, or 3):  1\n",
      "Enter the column (1, 2, or 3):  3\n"
     ]
    },
    {
     "name": "stdout",
     "output_type": "stream",
     "text": [
      "Invalid move. Try again.\n"
     ]
    },
    {
     "name": "stdin",
     "output_type": "stream",
     "text": [
      "Enter the row (1, 2, or 3):  1\n",
      "Enter the column (1, 2, or 3):  1\n"
     ]
    },
    {
     "name": "stdout",
     "output_type": "stream",
     "text": [
      "Invalid move. Try again.\n"
     ]
    },
    {
     "name": "stdin",
     "output_type": "stream",
     "text": [
      "Enter the row (1, 2, or 3):  3\n",
      "Enter the column (1, 2, or 3):  1\n"
     ]
    },
    {
     "name": "stdout",
     "output_type": "stream",
     "text": [
      "X | X | O\n",
      "---------\n",
      "O | X | O\n",
      "---------\n",
      "X |   |  \n",
      "---------\n",
      "X | X | O\n",
      "---------\n",
      "O | X | O\n",
      "---------\n",
      "X | O |  \n",
      "---------\n"
     ]
    },
    {
     "name": "stdin",
     "output_type": "stream",
     "text": [
      "Enter the row (1, 2, or 3):  2\n",
      "Enter the column (1, 2, or 3):  3\n"
     ]
    },
    {
     "name": "stdout",
     "output_type": "stream",
     "text": [
      "Invalid move. Try again.\n"
     ]
    },
    {
     "name": "stdin",
     "output_type": "stream",
     "text": [
      "Enter the row (1, 2, or 3):  3\n",
      "Enter the column (1, 2, or 3):  2\n"
     ]
    },
    {
     "name": "stdout",
     "output_type": "stream",
     "text": [
      "Invalid move. Try again.\n"
     ]
    },
    {
     "name": "stdin",
     "output_type": "stream",
     "text": [
      "Enter the row (1, 2, or 3):  3\n",
      "Enter the column (1, 2, or 3):  3\n"
     ]
    },
    {
     "name": "stdout",
     "output_type": "stream",
     "text": [
      "X | X | O\n",
      "---------\n",
      "O | X | O\n",
      "---------\n",
      "X | O | X\n",
      "---------\n",
      "Congratulations! You win!\n",
      "Game Over.\n"
     ]
    }
   ],
   "source": [
    "# 35. Create a program that simulates a basic text-based tic-tac-toe game against the computer.\n",
    "import random\n",
    "\n",
    "def print_board(board):\n",
    "    for row in board:\n",
    "        print(\" | \".join(row))\n",
    "        print(\"-\" * 9)\n",
    "\n",
    "def check_winner(board, player):\n",
    "    # Check rows, columns, and diagonals\n",
    "    for i in range(3):\n",
    "        if all(board[i][j] == player for j in range(3)) or all(board[j][i] == player for j in range(3)):\n",
    "            return True\n",
    "    if all(board[i][i] == player for i in range(3)) or all(board[i][2 - i] == player for i in range(3)):\n",
    "        return True\n",
    "    return False\n",
    "\n",
    "def is_board_full(board):\n",
    "    return all(board[i][j] != \" \" for i in range(3) for j in range(3))\n",
    "\n",
    "def player_move(board):\n",
    "    while True:\n",
    "        try:\n",
    "            row = int(input(\"Enter the row (1, 2, or 3): \")) - 1\n",
    "            col = int(input(\"Enter the column (1, 2, or 3): \")) - 1\n",
    "            if 0 <= row < 3 and 0 <= col < 3 and board[row][col] == \" \":\n",
    "                return row, col\n",
    "            else:\n",
    "                print(\"Invalid move. Try again.\")\n",
    "        except ValueError:\n",
    "            print(\"Invalid input. Enter a number.\")\n",
    "\n",
    "def computer_move(board):\n",
    "    empty_cells = [(i, j) for i in range(3) for j in range(3) if board[i][j] == \" \"]\n",
    "    return random.choice(empty_cells)\n",
    "\n",
    "def main():\n",
    "    board = [[\" \" for _ in range(3)] for _ in range(3)]\n",
    "    player_symbol = \"X\"\n",
    "    computer_symbol = \"O\"\n",
    "\n",
    "    print(\"Welcome to Tic-Tac-Toe!\\n\")\n",
    "    print_board(board)\n",
    "\n",
    "    for turn in range(9):\n",
    "        if turn % 2 == 0:  # Player's turn\n",
    "            row, col = player_move(board)\n",
    "            board[row][col] = player_symbol\n",
    "        else:  # Computer's turn\n",
    "            row, col = computer_move(board)\n",
    "            board[row][col] = computer_symbol\n",
    "\n",
    "        print_board(board)\n",
    "\n",
    "        if check_winner(board, player_symbol):\n",
    "            print(\"Congratulations! You win!\")\n",
    "            break\n",
    "        elif check_winner(board, computer_symbol):\n",
    "            print(\"Computer wins! Better luck next time.\")\n",
    "            break\n",
    "        elif is_board_full(board):\n",
    "            print(\"It's a draw!\")\n",
    "            break\n",
    "\n",
    "    print(\"Game Over.\")\n",
    "\n",
    "if __name__ == \"__main__\":\n",
    "    main()\n"
   ]
  },
  {
   "cell_type": "code",
   "execution_count": 39,
   "id": "1019d54e-cd20-4092-be6b-dc0a6de6211a",
   "metadata": {},
   "outputs": [
    {
     "name": "stdin",
     "output_type": "stream",
     "text": [
      "Enter Number:  10\n"
     ]
    },
    {
     "name": "stdout",
     "output_type": "stream",
     "text": [
      "Fibonacci Number:  0\n",
      "Fibonacci Number:  1\n",
      "Fibonacci Number:  1\n",
      "Fibonacci Number:  2\n",
      "Fibonacci Number:  3\n",
      "Fibonacci Number:  5\n",
      "Fibonacci Number:  8\n",
      "Fibonacci Number:  13\n",
      "Fibonacci Number:  21\n",
      "Fibonacci Number:  34\n"
     ]
    }
   ],
   "source": [
    "# 36. Write a program that generates Fibonacci numbers up to a specified term using iterative methods.\n",
    "upto = int(input(\"Enter Number: \"))\n",
    "# initialize a, b\n",
    "a, b = 0, 1\n",
    "# using iterative method for fibonacci\n",
    "for i in range(upto):\n",
    "    if i <= 1:\n",
    "        print(\"Fibonacci Number: \",i)\n",
    "    else:\n",
    "        result = a + b\n",
    "        a = b\n",
    "        b = result\n",
    "        print(\"Fibonacci Number: \",result)"
   ]
  },
  {
   "cell_type": "code",
   "execution_count": 38,
   "id": "2c82b46a-85f6-4ef5-ab1f-a1fa2d0ed2a5",
   "metadata": {},
   "outputs": [
    {
     "name": "stdin",
     "output_type": "stream",
     "text": [
      "Enter Range:  10\n"
     ]
    },
    {
     "name": "stdout",
     "output_type": "stream",
     "text": [
      "Fibonacci Of 0 : 0\n",
      "Fibonacci Of 1 : 1\n",
      "Fibonacci Of 2 : 1\n",
      "Fibonacci Of 3 : 2\n",
      "Fibonacci Of 4 : 3\n",
      "Fibonacci Of 5 : 5\n",
      "Fibonacci Of 6 : 8\n",
      "Fibonacci Of 7 : 13\n",
      "Fibonacci Of 8 : 21\n",
      "Fibonacci Of 9 : 34\n"
     ]
    }
   ],
   "source": [
    "# 37. Develop a program that calculates the nth term of the Fibonacci sequence using memoization.\n",
    "# 37. Develop a program that calculates the nth term of the Fibonacci sequence using memoization.\n",
    "\n",
    "def fibo(n, memo={}):\n",
    "    if n <= 1:\n",
    "        return n\n",
    "    # check if exists in memo\n",
    "    if n in memo:\n",
    "        return memo[n]\n",
    "    # calculating fibonacci\n",
    "    result = fibo(n-1, memo) + fibo(n-2, memo)\n",
    "    # memoize the result\n",
    "    memo[n] = result\n",
    "    # return the result\n",
    "    return result\n",
    "\n",
    "# enter range\n",
    "num = int(input(\"Enter Range: \"))\n",
    "for i in range(num):\n",
    "    print(f\"Fibonacci Of {i} : {fibo(i)}\")"
   ]
  },
  {
   "cell_type": "code",
   "execution_count": 47,
   "id": "80c8ac1a-6979-4481-9b3a-76e88f7aa81e",
   "metadata": {},
   "outputs": [
    {
     "name": "stdin",
     "output_type": "stream",
     "text": [
      "Enter Year:  2023\n",
      "Enter Month (1-12):  12\n"
     ]
    },
    {
     "name": "stdout",
     "output_type": "stream",
     "text": [
      "   December 2023\n",
      "Mo Tu We Th Fr Sa Su\n",
      "             1  2  3\n",
      " 4  5  6  7  8  9 10\n",
      "11 12 13 14 15 16 17\n",
      "18 19 20 21 22 23 24\n",
      "25 26 27 28 29 30 31\n",
      "\n"
     ]
    }
   ],
   "source": [
    "# 38. Create a program that generates a calendar for a given month and year using conditional statements.\n",
    "# import calendar to perform that \n",
    "import calendar\n",
    "def gen_calc(year, month):\n",
    "    cal = calendar.month(year, month)\n",
    "    if cal:\n",
    "        print(cal)\n",
    "    else:\n",
    "        print(\"Something Went Wrong\")\n",
    "\n",
    "# values \n",
    "year = int(input(\"Enter Year: \"))\n",
    "month = int(input(\"Enter Month (1-12): \"))\n",
    "gen_calc(year, month)"
   ]
  },
  {
   "cell_type": "code",
   "execution_count": 50,
   "id": "e6e9cea0-ccc5-4547-b1d8-79e441c25cce",
   "metadata": {},
   "outputs": [
    {
     "name": "stdout",
     "output_type": "stream",
     "text": [
      "Your cards: [3, 9], current score: 12\n",
      "Computer's first card: 11\n"
     ]
    },
    {
     "name": "stdin",
     "output_type": "stream",
     "text": [
      "Type 'y' to get another card, 'n' to pass:  12\n"
     ]
    },
    {
     "name": "stdout",
     "output_type": "stream",
     "text": [
      "Your final hand: [3, 9], final score: 12\n",
      "Computer's final hand: [1, 3, 10, 1, 5], final score: 20\n",
      "You lose!\n"
     ]
    }
   ],
   "source": [
    "# 39. Build a program that simulates a basic text-based blackjack game against the computer.\n",
    "import random\n",
    "\n",
    "def deal_card():\n",
    "    \"\"\"Return a random card from the deck.\"\"\"\n",
    "    cards = [11, 2, 3, 4, 5, 6, 7, 8, 9, 10, 10, 10, 10]\n",
    "    return random.choice(cards)\n",
    "\n",
    "def calculate_score(cards):\n",
    "    \"\"\"Calculate the total value of a hand of cards.\"\"\"\n",
    "    if sum(cards) == 21 and len(cards) == 2:\n",
    "        return 0  # Blackjack\n",
    "    if 11 in cards and sum(cards) > 21:\n",
    "        cards.remove(11)\n",
    "        cards.append(1)\n",
    "    return sum(cards)\n",
    "\n",
    "def compare(user_score, computer_score):\n",
    "    \"\"\"Compare the user's and computer's scores to determine the winner.\"\"\"\n",
    "    if user_score == computer_score:\n",
    "        return \"It's a draw!\"\n",
    "    elif computer_score == 0 or user_score > 21:\n",
    "        return \"You lose!\"\n",
    "    elif user_score == 0 or computer_score > 21 or user_score > computer_score:\n",
    "        return \"You win!\"\n",
    "    else:\n",
    "        return \"You lose!\"\n",
    "\n",
    "def play_game():\n",
    "    \"\"\"Play a game of Blackjack.\"\"\"\n",
    "    user_cards = []\n",
    "    computer_cards = []\n",
    "    is_game_over = False\n",
    "\n",
    "    for _ in range(2):\n",
    "        user_cards.append(deal_card())\n",
    "        computer_cards.append(deal_card())\n",
    "\n",
    "    while not is_game_over:\n",
    "        user_score = calculate_score(user_cards)\n",
    "        computer_score = calculate_score(computer_cards)\n",
    "\n",
    "        print(f\"Your cards: {user_cards}, current score: {user_score}\")\n",
    "        print(f\"Computer's first card: {computer_cards[0]}\")\n",
    "\n",
    "        if user_score == 0 or computer_score == 0 or user_score > 21:\n",
    "            is_game_over = True\n",
    "        else:\n",
    "            another_card = input(\"Type 'y' to get another card, 'n' to pass: \").lower()\n",
    "            if another_card == 'y':\n",
    "                user_cards.append(deal_card())\n",
    "            else:\n",
    "                is_game_over = True\n",
    "\n",
    "    while computer_score != 0 and computer_score < 17:\n",
    "        computer_cards.append(deal_card())\n",
    "        computer_score = calculate_score(computer_cards)\n",
    "\n",
    "    print(f\"Your final hand: {user_cards}, final score: {user_score}\")\n",
    "    print(f\"Computer's final hand: {computer_cards}, final score: {computer_score}\")\n",
    "    print(compare(user_score, computer_score))\n",
    "\n",
    "# Run the game\n",
    "play_game()\n"
   ]
  },
  {
   "cell_type": "code",
   "execution_count": 55,
   "id": "d8db0546-c2aa-47c6-9c51-74a343712d9b",
   "metadata": {},
   "outputs": [
    {
     "name": "stdin",
     "output_type": "stream",
     "text": [
      "Enter a number to find its prime factors:  121\n"
     ]
    },
    {
     "name": "stdout",
     "output_type": "stream",
     "text": [
      "Prime factors of 121: [11, 11]\n"
     ]
    }
   ],
   "source": [
    "# 40. Write a program that generates the prime factors of a given number using trial division.\n",
    "def generate_prime_factors(number):\n",
    "    prime_factors = []\n",
    "    divisor = 2\n",
    "\n",
    "    while divisor <= number:\n",
    "        if number % divisor == 0:\n",
    "            prime_factors.append(divisor)\n",
    "            number = number // divisor\n",
    "        else:\n",
    "            divisor += 1\n",
    "\n",
    "    return prime_factors\n",
    "\n",
    "# Get user input for the number\n",
    "user_number = int(input(\"Enter a number to find its prime factors: \"))\n",
    "\n",
    "# Generate and print prime factors\n",
    "result = generate_prime_factors(user_number)\n",
    "print(f\"Prime factors of {user_number}: {result}\")\n"
   ]
  }
 ],
 "metadata": {
  "kernelspec": {
   "display_name": "Python 3 (ipykernel)",
   "language": "python",
   "name": "python3"
  },
  "language_info": {
   "codemirror_mode": {
    "name": "ipython",
    "version": 3
   },
   "file_extension": ".py",
   "mimetype": "text/x-python",
   "name": "python",
   "nbconvert_exporter": "python",
   "pygments_lexer": "ipython3",
   "version": "3.12.0"
  }
 },
 "nbformat": 4,
 "nbformat_minor": 5
}
